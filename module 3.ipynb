{
 "cells": [
  {
   "cell_type": "markdown",
   "id": "9acc3ca2",
   "metadata": {},
   "source": [
    "# Load Data"
   ]
  },
  {
   "cell_type": "code",
   "execution_count": 1,
   "id": "ceb80598",
   "metadata": {
    "ExecuteTime": {
     "end_time": "2023-04-11T05:42:23.820383Z",
     "start_time": "2023-04-11T05:42:20.003822Z"
    }
   },
   "outputs": [],
   "source": [
    "import pandas as pd\n",
    "import numpy as np\n",
    "from sklearn.utils import shuffle\n",
    "import jUtils\n",
    "from sklearn.model_selection import GridSearchCV\n",
    "from sklearn.metrics import confusion_matrix, plot_confusion_matrix\n",
    "import matplotlib.pyplot as plt"
   ]
  },
  {
   "cell_type": "code",
   "execution_count": 2,
   "id": "11e5cdee",
   "metadata": {
    "ExecuteTime": {
     "end_time": "2023-04-11T05:42:28.036256Z",
     "start_time": "2023-04-11T05:42:23.822724Z"
    }
   },
   "outputs": [],
   "source": [
    "train = shuffle(pd.read_csv('trainBal.csv'))\n",
    "validation = shuffle(pd.read_csv('validationBal.csv'))\n",
    "# test = shuffle(pd.read_csv('testBal.csv'))"
   ]
  },
  {
   "cell_type": "code",
   "execution_count": 12,
   "id": "3c7dd41c",
   "metadata": {
    "ExecuteTime": {
     "end_time": "2023-04-11T05:42:56.016439Z",
     "start_time": "2023-04-11T05:42:56.003020Z"
    }
   },
   "outputs": [],
   "source": [
    "trainDown = train.sample(1000)"
   ]
  },
  {
   "cell_type": "code",
   "execution_count": 13,
   "id": "f699663f",
   "metadata": {
    "ExecuteTime": {
     "end_time": "2023-04-11T05:43:11.012438Z",
     "start_time": "2023-04-11T05:43:11.000118Z"
    }
   },
   "outputs": [],
   "source": [
    "validationDown = validation.sample(1000)"
   ]
  },
  {
   "cell_type": "code",
   "execution_count": 3,
   "id": "9c81d0f8",
   "metadata": {
    "ExecuteTime": {
     "end_time": "2023-04-11T05:42:28.052330Z",
     "start_time": "2023-04-11T05:42:28.038243Z"
    }
   },
   "outputs": [],
   "source": [
    "from collections import Counter"
   ]
  },
  {
   "cell_type": "code",
   "execution_count": 4,
   "id": "31b4b17f",
   "metadata": {
    "ExecuteTime": {
     "end_time": "2023-04-11T05:42:28.083324Z",
     "start_time": "2023-04-11T05:42:28.054330Z"
    }
   },
   "outputs": [
    {
     "name": "stdout",
     "output_type": "stream",
     "text": [
      "Train: Counter({0: 32675, 1: 32675})\n",
      "validation: Counter({0: 25584, 1: 4119})\n"
     ]
    }
   ],
   "source": [
    "print(\"Train:\",Counter(train['label']))\n",
    "print(\"validation:\",Counter(validation['label']))"
   ]
  },
  {
   "cell_type": "code",
   "execution_count": 5,
   "id": "4ad1110c",
   "metadata": {
    "ExecuteTime": {
     "end_time": "2023-04-11T05:42:28.098718Z",
     "start_time": "2023-04-11T05:42:28.085205Z"
    }
   },
   "outputs": [
    {
     "name": "stdout",
     "output_type": "stream",
     "text": [
      "65350\n"
     ]
    }
   ],
   "source": [
    "print(len(train))"
   ]
  },
  {
   "cell_type": "code",
   "execution_count": 6,
   "id": "2aeda4ab",
   "metadata": {
    "ExecuteTime": {
     "end_time": "2023-04-11T05:42:28.192845Z",
     "start_time": "2023-04-11T05:42:28.100718Z"
    },
    "scrolled": true
   },
   "outputs": [
    {
     "data": {
      "text/html": [
       "<div>\n",
       "<style scoped>\n",
       "    .dataframe tbody tr th:only-of-type {\n",
       "        vertical-align: middle;\n",
       "    }\n",
       "\n",
       "    .dataframe tbody tr th {\n",
       "        vertical-align: top;\n",
       "    }\n",
       "\n",
       "    .dataframe thead th {\n",
       "        text-align: right;\n",
       "    }\n",
       "</style>\n",
       "<table border=\"1\" class=\"dataframe\">\n",
       "  <thead>\n",
       "    <tr style=\"text-align: right;\">\n",
       "      <th></th>\n",
       "      <th>Unnamed: 0</th>\n",
       "      <th>id</th>\n",
       "      <th>label</th>\n",
       "      <th>selftext</th>\n",
       "      <th>cleaned</th>\n",
       "      <th>Negative</th>\n",
       "      <th>Neutral</th>\n",
       "      <th>Positive</th>\n",
       "      <th>Compound</th>\n",
       "      <th>funct</th>\n",
       "      <th>...</th>\n",
       "      <th>wc</th>\n",
       "      <th>cleanedString</th>\n",
       "      <th>angerS</th>\n",
       "      <th>anticipation</th>\n",
       "      <th>disgust</th>\n",
       "      <th>fear</th>\n",
       "      <th>joy</th>\n",
       "      <th>sadness</th>\n",
       "      <th>surprise</th>\n",
       "      <th>trust</th>\n",
       "    </tr>\n",
       "  </thead>\n",
       "  <tbody>\n",
       "    <tr>\n",
       "      <th>43596</th>\n",
       "      <td>19771</td>\n",
       "      <td>gh7wl3</td>\n",
       "      <td>0</td>\n",
       "      <td>We are physically unable to protest right now....</td>\n",
       "      <td>['physically', 'unable', 'protest', 'right', '...</td>\n",
       "      <td>0.147</td>\n",
       "      <td>0.700</td>\n",
       "      <td>0.153</td>\n",
       "      <td>0.2908</td>\n",
       "      <td>0.534591</td>\n",
       "      <td>...</td>\n",
       "      <td>159.0</td>\n",
       "      <td>physically unable protest right covid made obv...</td>\n",
       "      <td>0.055556</td>\n",
       "      <td>0.111111</td>\n",
       "      <td>0.000000</td>\n",
       "      <td>0.111111</td>\n",
       "      <td>0.166667</td>\n",
       "      <td>0.166667</td>\n",
       "      <td>0.055556</td>\n",
       "      <td>0.333333</td>\n",
       "    </tr>\n",
       "    <tr>\n",
       "      <th>11745</th>\n",
       "      <td>111560</td>\n",
       "      <td>gzwxnt</td>\n",
       "      <td>0</td>\n",
       "      <td>Didn't have to go \"hunting\" for these comments...</td>\n",
       "      <td>['didnt', 'go', 'hunting', 'comment', 'top', '...</td>\n",
       "      <td>0.136</td>\n",
       "      <td>0.812</td>\n",
       "      <td>0.052</td>\n",
       "      <td>-0.5984</td>\n",
       "      <td>0.600000</td>\n",
       "      <td>...</td>\n",
       "      <td>30.0</td>\n",
       "      <td>didnt go hunting comment top comment others ne...</td>\n",
       "      <td>0.200000</td>\n",
       "      <td>0.400000</td>\n",
       "      <td>0.000000</td>\n",
       "      <td>0.200000</td>\n",
       "      <td>0.000000</td>\n",
       "      <td>0.000000</td>\n",
       "      <td>0.000000</td>\n",
       "      <td>0.200000</td>\n",
       "    </tr>\n",
       "    <tr>\n",
       "      <th>40178</th>\n",
       "      <td>97967</td>\n",
       "      <td>52fmkt</td>\n",
       "      <td>0</td>\n",
       "      <td>I really fucking hate the Media...</td>\n",
       "      <td>['really', 'fucking', 'hate', 'medium']</td>\n",
       "      <td>0.461</td>\n",
       "      <td>0.539</td>\n",
       "      <td>0.000</td>\n",
       "      <td>-0.6453</td>\n",
       "      <td>0.500000</td>\n",
       "      <td>...</td>\n",
       "      <td>6.0</td>\n",
       "      <td>really fucking hate medium</td>\n",
       "      <td>0.250000</td>\n",
       "      <td>0.000000</td>\n",
       "      <td>0.250000</td>\n",
       "      <td>0.250000</td>\n",
       "      <td>0.000000</td>\n",
       "      <td>0.250000</td>\n",
       "      <td>0.000000</td>\n",
       "      <td>0.000000</td>\n",
       "    </tr>\n",
       "    <tr>\n",
       "      <th>42671</th>\n",
       "      <td>38295</td>\n",
       "      <td>21ftso</td>\n",
       "      <td>1</td>\n",
       "      <td>Sorry if I'm a little vague.</td>\n",
       "      <td>['sorry', 'im', 'little', 'vague']</td>\n",
       "      <td>0.376</td>\n",
       "      <td>0.624</td>\n",
       "      <td>0.000</td>\n",
       "      <td>-0.1045</td>\n",
       "      <td>0.500000</td>\n",
       "      <td>...</td>\n",
       "      <td>6.0</td>\n",
       "      <td>sorry im little vague</td>\n",
       "      <td>0.000000</td>\n",
       "      <td>0.000000</td>\n",
       "      <td>0.000000</td>\n",
       "      <td>0.000000</td>\n",
       "      <td>0.000000</td>\n",
       "      <td>0.000000</td>\n",
       "      <td>0.000000</td>\n",
       "      <td>0.000000</td>\n",
       "    </tr>\n",
       "    <tr>\n",
       "      <th>13162</th>\n",
       "      <td>26794</td>\n",
       "      <td>6gig0u</td>\n",
       "      <td>1</td>\n",
       "      <td>Am I the only one surprised about The_Donald c...</td>\n",
       "      <td>['one', 'surprised', 'the_donald', 'complainin...</td>\n",
       "      <td>0.131</td>\n",
       "      <td>0.742</td>\n",
       "      <td>0.127</td>\n",
       "      <td>-0.0772</td>\n",
       "      <td>0.527778</td>\n",
       "      <td>...</td>\n",
       "      <td>72.0</td>\n",
       "      <td>one surprised the_donald complaining free spee...</td>\n",
       "      <td>0.250000</td>\n",
       "      <td>0.062500</td>\n",
       "      <td>0.062500</td>\n",
       "      <td>0.187500</td>\n",
       "      <td>0.062500</td>\n",
       "      <td>0.125000</td>\n",
       "      <td>0.187500</td>\n",
       "      <td>0.062500</td>\n",
       "    </tr>\n",
       "    <tr>\n",
       "      <th>...</th>\n",
       "      <td>...</td>\n",
       "      <td>...</td>\n",
       "      <td>...</td>\n",
       "      <td>...</td>\n",
       "      <td>...</td>\n",
       "      <td>...</td>\n",
       "      <td>...</td>\n",
       "      <td>...</td>\n",
       "      <td>...</td>\n",
       "      <td>...</td>\n",
       "      <td>...</td>\n",
       "      <td>...</td>\n",
       "      <td>...</td>\n",
       "      <td>...</td>\n",
       "      <td>...</td>\n",
       "      <td>...</td>\n",
       "      <td>...</td>\n",
       "      <td>...</td>\n",
       "      <td>...</td>\n",
       "      <td>...</td>\n",
       "      <td>...</td>\n",
       "    </tr>\n",
       "    <tr>\n",
       "      <th>15801</th>\n",
       "      <td>25627</td>\n",
       "      <td>kvcx72</td>\n",
       "      <td>1</td>\n",
       "      <td>Found out through their Twitter. The only news...</td>\n",
       "      <td>['found', 'twitter', 'news', 'story', 'found']</td>\n",
       "      <td>0.000</td>\n",
       "      <td>1.000</td>\n",
       "      <td>0.000</td>\n",
       "      <td>0.0000</td>\n",
       "      <td>0.625000</td>\n",
       "      <td>...</td>\n",
       "      <td>16.0</td>\n",
       "      <td>found twitter news story found</td>\n",
       "      <td>0.000000</td>\n",
       "      <td>0.000000</td>\n",
       "      <td>0.000000</td>\n",
       "      <td>0.000000</td>\n",
       "      <td>0.500000</td>\n",
       "      <td>0.000000</td>\n",
       "      <td>0.000000</td>\n",
       "      <td>0.500000</td>\n",
       "    </tr>\n",
       "    <tr>\n",
       "      <th>39506</th>\n",
       "      <td>56182</td>\n",
       "      <td>e5w35y</td>\n",
       "      <td>0</td>\n",
       "      <td>As we saw in the Obama years, no matter how gr...</td>\n",
       "      <td>['saw', 'obama', 'year', 'matter', 'great', 'i...</td>\n",
       "      <td>0.096</td>\n",
       "      <td>0.833</td>\n",
       "      <td>0.071</td>\n",
       "      <td>0.1451</td>\n",
       "      <td>0.519231</td>\n",
       "      <td>...</td>\n",
       "      <td>52.0</td>\n",
       "      <td>saw obama year matter great idea dont bipartis...</td>\n",
       "      <td>0.000000</td>\n",
       "      <td>0.000000</td>\n",
       "      <td>0.000000</td>\n",
       "      <td>0.000000</td>\n",
       "      <td>0.250000</td>\n",
       "      <td>0.000000</td>\n",
       "      <td>0.000000</td>\n",
       "      <td>0.750000</td>\n",
       "    </tr>\n",
       "    <tr>\n",
       "      <th>40093</th>\n",
       "      <td>92222</td>\n",
       "      <td>4up9cg</td>\n",
       "      <td>0</td>\n",
       "      <td>**UPDATE:** r/Enough_Sanders_Spam has been cre...</td>\n",
       "      <td>['update', 'renough_sanders_spam', 'created', ...</td>\n",
       "      <td>0.117</td>\n",
       "      <td>0.784</td>\n",
       "      <td>0.099</td>\n",
       "      <td>-0.7046</td>\n",
       "      <td>0.466292</td>\n",
       "      <td>...</td>\n",
       "      <td>178.0</td>\n",
       "      <td>update renough_sanders_spam created house es r...</td>\n",
       "      <td>0.200000</td>\n",
       "      <td>0.200000</td>\n",
       "      <td>0.066667</td>\n",
       "      <td>0.200000</td>\n",
       "      <td>0.000000</td>\n",
       "      <td>0.133333</td>\n",
       "      <td>0.000000</td>\n",
       "      <td>0.200000</td>\n",
       "    </tr>\n",
       "    <tr>\n",
       "      <th>28432</th>\n",
       "      <td>80817</td>\n",
       "      <td>hju1ls</td>\n",
       "      <td>0</td>\n",
       "      <td>And I mean legit examples of privatization wor...</td>\n",
       "      <td>['mean', 'legit', 'example', 'privatization', ...</td>\n",
       "      <td>0.064</td>\n",
       "      <td>0.870</td>\n",
       "      <td>0.066</td>\n",
       "      <td>-0.2118</td>\n",
       "      <td>0.675214</td>\n",
       "      <td>...</td>\n",
       "      <td>117.0</td>\n",
       "      <td>mean legit example privatization working outli...</td>\n",
       "      <td>0.000000</td>\n",
       "      <td>0.100000</td>\n",
       "      <td>0.000000</td>\n",
       "      <td>0.100000</td>\n",
       "      <td>0.100000</td>\n",
       "      <td>0.100000</td>\n",
       "      <td>0.100000</td>\n",
       "      <td>0.500000</td>\n",
       "    </tr>\n",
       "    <tr>\n",
       "      <th>54038</th>\n",
       "      <td>77104</td>\n",
       "      <td>kdywki</td>\n",
       "      <td>0</td>\n",
       "      <td>Every time i browse around political subreddit...</td>\n",
       "      <td>['every', 'time', 'browse', 'around', 'politic...</td>\n",
       "      <td>0.164</td>\n",
       "      <td>0.811</td>\n",
       "      <td>0.025</td>\n",
       "      <td>-0.9187</td>\n",
       "      <td>0.470588</td>\n",
       "      <td>...</td>\n",
       "      <td>68.0</td>\n",
       "      <td>every time browse around political subreddits ...</td>\n",
       "      <td>0.133333</td>\n",
       "      <td>0.133333</td>\n",
       "      <td>0.133333</td>\n",
       "      <td>0.133333</td>\n",
       "      <td>0.066667</td>\n",
       "      <td>0.200000</td>\n",
       "      <td>0.133333</td>\n",
       "      <td>0.066667</td>\n",
       "    </tr>\n",
       "  </tbody>\n",
       "</table>\n",
       "<p>65350 rows × 83 columns</p>\n",
       "</div>"
      ],
      "text/plain": [
       "       Unnamed: 0      id  label  \\\n",
       "43596       19771  gh7wl3      0   \n",
       "11745      111560  gzwxnt      0   \n",
       "40178       97967  52fmkt      0   \n",
       "42671       38295  21ftso      1   \n",
       "13162       26794  6gig0u      1   \n",
       "...           ...     ...    ...   \n",
       "15801       25627  kvcx72      1   \n",
       "39506       56182  e5w35y      0   \n",
       "40093       92222  4up9cg      0   \n",
       "28432       80817  hju1ls      0   \n",
       "54038       77104  kdywki      0   \n",
       "\n",
       "                                                selftext  \\\n",
       "43596  We are physically unable to protest right now....   \n",
       "11745  Didn't have to go \"hunting\" for these comments...   \n",
       "40178                 I really fucking hate the Media...   \n",
       "42671                       Sorry if I'm a little vague.   \n",
       "13162  Am I the only one surprised about The_Donald c...   \n",
       "...                                                  ...   \n",
       "15801  Found out through their Twitter. The only news...   \n",
       "39506  As we saw in the Obama years, no matter how gr...   \n",
       "40093  **UPDATE:** r/Enough_Sanders_Spam has been cre...   \n",
       "28432  And I mean legit examples of privatization wor...   \n",
       "54038  Every time i browse around political subreddit...   \n",
       "\n",
       "                                                 cleaned  Negative  Neutral  \\\n",
       "43596  ['physically', 'unable', 'protest', 'right', '...     0.147    0.700   \n",
       "11745  ['didnt', 'go', 'hunting', 'comment', 'top', '...     0.136    0.812   \n",
       "40178            ['really', 'fucking', 'hate', 'medium']     0.461    0.539   \n",
       "42671                 ['sorry', 'im', 'little', 'vague']     0.376    0.624   \n",
       "13162  ['one', 'surprised', 'the_donald', 'complainin...     0.131    0.742   \n",
       "...                                                  ...       ...      ...   \n",
       "15801     ['found', 'twitter', 'news', 'story', 'found']     0.000    1.000   \n",
       "39506  ['saw', 'obama', 'year', 'matter', 'great', 'i...     0.096    0.833   \n",
       "40093  ['update', 'renough_sanders_spam', 'created', ...     0.117    0.784   \n",
       "28432  ['mean', 'legit', 'example', 'privatization', ...     0.064    0.870   \n",
       "54038  ['every', 'time', 'browse', 'around', 'politic...     0.164    0.811   \n",
       "\n",
       "       Positive  Compound     funct  ...     wc  \\\n",
       "43596     0.153    0.2908  0.534591  ...  159.0   \n",
       "11745     0.052   -0.5984  0.600000  ...   30.0   \n",
       "40178     0.000   -0.6453  0.500000  ...    6.0   \n",
       "42671     0.000   -0.1045  0.500000  ...    6.0   \n",
       "13162     0.127   -0.0772  0.527778  ...   72.0   \n",
       "...         ...       ...       ...  ...    ...   \n",
       "15801     0.000    0.0000  0.625000  ...   16.0   \n",
       "39506     0.071    0.1451  0.519231  ...   52.0   \n",
       "40093     0.099   -0.7046  0.466292  ...  178.0   \n",
       "28432     0.066   -0.2118  0.675214  ...  117.0   \n",
       "54038     0.025   -0.9187  0.470588  ...   68.0   \n",
       "\n",
       "                                           cleanedString    angerS  \\\n",
       "43596  physically unable protest right covid made obv...  0.055556   \n",
       "11745  didnt go hunting comment top comment others ne...  0.200000   \n",
       "40178                         really fucking hate medium  0.250000   \n",
       "42671                              sorry im little vague  0.000000   \n",
       "13162  one surprised the_donald complaining free spee...  0.250000   \n",
       "...                                                  ...       ...   \n",
       "15801                     found twitter news story found  0.000000   \n",
       "39506  saw obama year matter great idea dont bipartis...  0.000000   \n",
       "40093  update renough_sanders_spam created house es r...  0.200000   \n",
       "28432  mean legit example privatization working outli...  0.000000   \n",
       "54038  every time browse around political subreddits ...  0.133333   \n",
       "\n",
       "       anticipation   disgust      fear       joy   sadness  surprise  \\\n",
       "43596      0.111111  0.000000  0.111111  0.166667  0.166667  0.055556   \n",
       "11745      0.400000  0.000000  0.200000  0.000000  0.000000  0.000000   \n",
       "40178      0.000000  0.250000  0.250000  0.000000  0.250000  0.000000   \n",
       "42671      0.000000  0.000000  0.000000  0.000000  0.000000  0.000000   \n",
       "13162      0.062500  0.062500  0.187500  0.062500  0.125000  0.187500   \n",
       "...             ...       ...       ...       ...       ...       ...   \n",
       "15801      0.000000  0.000000  0.000000  0.500000  0.000000  0.000000   \n",
       "39506      0.000000  0.000000  0.000000  0.250000  0.000000  0.000000   \n",
       "40093      0.200000  0.066667  0.200000  0.000000  0.133333  0.000000   \n",
       "28432      0.100000  0.000000  0.100000  0.100000  0.100000  0.100000   \n",
       "54038      0.133333  0.133333  0.133333  0.066667  0.200000  0.133333   \n",
       "\n",
       "          trust  \n",
       "43596  0.333333  \n",
       "11745  0.200000  \n",
       "40178  0.000000  \n",
       "42671  0.000000  \n",
       "13162  0.062500  \n",
       "...         ...  \n",
       "15801  0.500000  \n",
       "39506  0.750000  \n",
       "40093  0.200000  \n",
       "28432  0.500000  \n",
       "54038  0.066667  \n",
       "\n",
       "[65350 rows x 83 columns]"
      ]
     },
     "execution_count": 6,
     "metadata": {},
     "output_type": "execute_result"
    }
   ],
   "source": [
    "train"
   ]
  },
  {
   "cell_type": "code",
   "execution_count": 7,
   "id": "9be3f7ee",
   "metadata": {
    "ExecuteTime": {
     "end_time": "2023-04-11T05:42:28.208931Z",
     "start_time": "2023-04-11T05:42:28.194829Z"
    }
   },
   "outputs": [],
   "source": [
    "from sklearn.feature_extraction.text import CountVectorizer\n",
    "from sklearn.feature_extraction.text import TfidfVectorizer\n",
    "import re"
   ]
  },
  {
   "cell_type": "code",
   "execution_count": 30,
   "id": "6b591089",
   "metadata": {
    "ExecuteTime": {
     "end_time": "2023-04-11T05:57:47.110425Z",
     "start_time": "2023-04-11T05:57:47.004473Z"
    }
   },
   "outputs": [
    {
     "name": "stderr",
     "output_type": "stream",
     "text": [
      "C:\\Users\\darkc\\AppData\\Local\\Temp\\ipykernel_18344\\2123415669.py:3: FutureWarning: The frame.append method is deprecated and will be removed from pandas in a future version. Use pandas.concat instead.\n",
      "  X = train.append(validation)\n"
     ]
    }
   ],
   "source": [
    "train['train'] = 1\n",
    "validation['train'] = 0\n",
    "X = train.append(validation)"
   ]
  },
  {
   "cell_type": "code",
   "execution_count": 31,
   "id": "c185e818",
   "metadata": {
    "ExecuteTime": {
     "end_time": "2023-04-11T05:57:56.316562Z",
     "start_time": "2023-04-11T05:57:49.999313Z"
    }
   },
   "outputs": [],
   "source": [
    "tfidf = TfidfVectorizer(strip_accents='ascii',lowercase=True,stop_words='english',max_features = 1000)\n",
    "tfidfX = tfidf.fit_transform(X['cleanedString'])\n",
    "tfidfDF = pd.DataFrame(tfidfX.toarray(),columns=tfidf.get_feature_names_out())"
   ]
  },
  {
   "cell_type": "code",
   "execution_count": 32,
   "id": "408d0f0b",
   "metadata": {
    "ExecuteTime": {
     "end_time": "2023-04-11T05:57:57.008916Z",
     "start_time": "2023-04-11T05:57:56.318573Z"
    }
   },
   "outputs": [],
   "source": [
    "X =  X.reset_index()\n",
    "tfidfDF['train'] = X['train']\n",
    "# tfidfDF['label'] = X['label']\n",
    "tfTrain = tfidfDF[tfidfDF['train'] == 1]\n",
    "tfVal = tfidfDF[tfidfDF['train'] == 0]\n",
    "tfVal = tfVal.drop(columns=['train'])\n",
    "tfTrain = tfTrain.drop(columns=['train'])"
   ]
  },
  {
   "cell_type": "code",
   "execution_count": 14,
   "id": "1eb986ae",
   "metadata": {
    "ExecuteTime": {
     "end_time": "2023-04-11T05:44:26.304701Z",
     "start_time": "2023-04-11T05:44:25.998248Z"
    }
   },
   "outputs": [
    {
     "name": "stderr",
     "output_type": "stream",
     "text": [
      "C:\\Users\\darkc\\AppData\\Local\\Temp\\ipykernel_18344\\3803607947.py:3: FutureWarning: The frame.append method is deprecated and will be removed from pandas in a future version. Use pandas.concat instead.\n",
      "  X = trainDown.append(validationDown)\n"
     ]
    }
   ],
   "source": [
    "trainDown['train'] = 1\n",
    "validationDown['train'] = 0\n",
    "X = trainDown.append(validationDown)\n",
    "X =  X.reset_index()\n",
    "tfidf = TfidfVectorizer(strip_accents='ascii',lowercase=True,stop_words='english',max_features = 1000)\n",
    "tfidfX = tfidf.fit_transform(X['cleanedString'])\n",
    "tfidfDF = pd.DataFrame(tfidfX.toarray(),columns=tfidf.get_feature_names_out())\n",
    "tfidfDF['train'] = X['train']\n",
    "# tfidfDF['label'] = X['label']\n",
    "tfTrain = tfidfDF[tfidfDF['train'] == 1]\n",
    "tfVal = tfidfDF[tfidfDF['train'] == 0]\n",
    "tfVal = tfVal.drop(columns=['train'])\n",
    "tfTrain = tfTrain.drop(columns=['train'])\n",
    "\n",
    "yTrain = trainDown['label']\n",
    "yVal = validationDown['label']"
   ]
  },
  {
   "cell_type": "code",
   "execution_count": 35,
   "id": "fe8e223f",
   "metadata": {
    "ExecuteTime": {
     "end_time": "2023-04-11T05:58:32.008808Z",
     "start_time": "2023-04-11T05:58:31.995166Z"
    }
   },
   "outputs": [],
   "source": [
    "yTrain = train['label']\n",
    "yVal = validation['label']"
   ]
  },
  {
   "cell_type": "markdown",
   "id": "68b14eae",
   "metadata": {
    "ExecuteTime": {
     "end_time": "2023-04-11T00:01:44.264494Z",
     "start_time": "2023-04-11T00:01:44.264494Z"
    }
   },
   "source": [
    "# Naive Bayes"
   ]
  },
  {
   "cell_type": "code",
   "execution_count": 33,
   "id": "c4502256",
   "metadata": {
    "ExecuteTime": {
     "end_time": "2023-04-11T05:58:08.009434Z",
     "start_time": "2023-04-11T05:58:07.997081Z"
    }
   },
   "outputs": [],
   "source": [
    "from sklearn.naive_bayes import GaussianNB"
   ]
  },
  {
   "cell_type": "code",
   "execution_count": 36,
   "id": "c990bf1e",
   "metadata": {
    "ExecuteTime": {
     "end_time": "2023-04-11T05:58:35.931882Z",
     "start_time": "2023-04-11T05:58:34.996919Z"
    }
   },
   "outputs": [
    {
     "data": {
      "text/plain": [
       "GaussianNB()"
      ]
     },
     "execution_count": 36,
     "metadata": {},
     "output_type": "execute_result"
    }
   ],
   "source": [
    "gnb = GaussianNB()\n",
    "gnb.fit(tfTrain,yTrain)"
   ]
  },
  {
   "cell_type": "code",
   "execution_count": 37,
   "id": "b75c6d75",
   "metadata": {
    "ExecuteTime": {
     "end_time": "2023-04-11T05:58:38.375521Z",
     "start_time": "2023-04-11T05:58:35.933352Z"
    }
   },
   "outputs": [
    {
     "data": {
      "text/html": [
       "\n",
       "<div id=\"altair-viz-0900456505154e11b1e3a8b195752d04\"></div>\n",
       "<script type=\"text/javascript\">\n",
       "  var VEGA_DEBUG = (typeof VEGA_DEBUG == \"undefined\") ? {} : VEGA_DEBUG;\n",
       "  (function(spec, embedOpt){\n",
       "    let outputDiv = document.currentScript.previousElementSibling;\n",
       "    if (outputDiv.id !== \"altair-viz-0900456505154e11b1e3a8b195752d04\") {\n",
       "      outputDiv = document.getElementById(\"altair-viz-0900456505154e11b1e3a8b195752d04\");\n",
       "    }\n",
       "    const paths = {\n",
       "      \"vega\": \"https://cdn.jsdelivr.net/npm//vega@5?noext\",\n",
       "      \"vega-lib\": \"https://cdn.jsdelivr.net/npm//vega-lib?noext\",\n",
       "      \"vega-lite\": \"https://cdn.jsdelivr.net/npm//vega-lite@4.17.0?noext\",\n",
       "      \"vega-embed\": \"https://cdn.jsdelivr.net/npm//vega-embed@6?noext\",\n",
       "    };\n",
       "\n",
       "    function maybeLoadScript(lib, version) {\n",
       "      var key = `${lib.replace(\"-\", \"\")}_version`;\n",
       "      return (VEGA_DEBUG[key] == version) ?\n",
       "        Promise.resolve(paths[lib]) :\n",
       "        new Promise(function(resolve, reject) {\n",
       "          var s = document.createElement('script');\n",
       "          document.getElementsByTagName(\"head\")[0].appendChild(s);\n",
       "          s.async = true;\n",
       "          s.onload = () => {\n",
       "            VEGA_DEBUG[key] = version;\n",
       "            return resolve(paths[lib]);\n",
       "          };\n",
       "          s.onerror = () => reject(`Error loading script: ${paths[lib]}`);\n",
       "          s.src = paths[lib];\n",
       "        });\n",
       "    }\n",
       "\n",
       "    function showError(err) {\n",
       "      outputDiv.innerHTML = `<div class=\"error\" style=\"color:red;\">${err}</div>`;\n",
       "      throw err;\n",
       "    }\n",
       "\n",
       "    function displayChart(vegaEmbed) {\n",
       "      vegaEmbed(outputDiv, spec, embedOpt)\n",
       "        .catch(err => showError(`Javascript Error: ${err.message}<br>This usually means there's a typo in your chart specification. See the javascript console for the full traceback.`));\n",
       "    }\n",
       "\n",
       "    if(typeof define === \"function\" && define.amd) {\n",
       "      requirejs.config({paths});\n",
       "      require([\"vega-embed\"], displayChart, err => showError(`Error loading script: ${err.message}`));\n",
       "    } else {\n",
       "      maybeLoadScript(\"vega\", \"5\")\n",
       "        .then(() => maybeLoadScript(\"vega-lite\", \"4.17.0\"))\n",
       "        .then(() => maybeLoadScript(\"vega-embed\", \"6\"))\n",
       "        .catch(showError)\n",
       "        .then(() => displayChart(vegaEmbed));\n",
       "    }\n",
       "  })({\"config\": {\"view\": {\"continuousWidth\": 400, \"continuousHeight\": 300}}, \"data\": {\"name\": \"data-9568f66d8e135f86cb2224e194213b7d\"}, \"mark\": {\"type\": \"line\", \"point\": {}}, \"encoding\": {\"color\": {\"field\": \"variable\", \"type\": \"nominal\"}, \"strokeDash\": {\"field\": \"variable\", \"type\": \"nominal\"}, \"tooltip\": [{\"field\": \"variable\", \"type\": \"nominal\"}, {\"field\": \"Threshold\", \"type\": \"quantitative\"}, {\"field\": \"value\", \"type\": \"quantitative\"}], \"x\": {\"field\": \"Threshold\", \"scale\": {\"domain\": [0.5, 1.0]}, \"type\": \"quantitative\"}, \"y\": {\"field\": \"value\", \"scale\": {\"domain\": [0.0, 1.0]}, \"type\": \"quantitative\"}}, \"height\": 600, \"title\": \"Classification Thresholds\", \"width\": 600, \"$schema\": \"https://vega.github.io/schema/vega-lite/v4.17.0.json\", \"datasets\": {\"data-9568f66d8e135f86cb2224e194213b7d\": [{\"Threshold\": 0.5, \"variable\": \"Accuracy\", \"value\": 0.6984238714613619}, {\"Threshold\": 0.55, \"variable\": \"Accuracy\", \"value\": 0.6984085692425401}, {\"Threshold\": 0.6, \"variable\": \"Accuracy\", \"value\": 0.6984850803366488}, {\"Threshold\": 0.65, \"variable\": \"Accuracy\", \"value\": 0.6984391736801836}, {\"Threshold\": 0.7, \"variable\": \"Accuracy\", \"value\": 0.6984850803366488}, {\"Threshold\": 0.75, \"variable\": \"Accuracy\", \"value\": 0.6983932670237184}, {\"Threshold\": 0.8, \"variable\": \"Accuracy\", \"value\": 0.6984850803366488}, {\"Threshold\": 0.85, \"variable\": \"Accuracy\", \"value\": 0.6984850803366488}, {\"Threshold\": 0.9, \"variable\": \"Accuracy\", \"value\": 0.6985921958684009}, {\"Threshold\": 0.95, \"variable\": \"Accuracy\", \"value\": 0.6986840091813313}, {\"Threshold\": 0.5, \"variable\": \"Precision\", \"value\": 0.6835697499929216}, {\"Threshold\": 0.55, \"variable\": \"Precision\", \"value\": 0.6838210275603946}, {\"Threshold\": 0.6, \"variable\": \"Precision\", \"value\": 0.6841373044490503}, {\"Threshold\": 0.65, \"variable\": \"Precision\", \"value\": 0.6842987891535445}, {\"Threshold\": 0.7, \"variable\": \"Precision\", \"value\": 0.6845459977804969}, {\"Threshold\": 0.75, \"variable\": \"Precision\", \"value\": 0.684660304799886}, {\"Threshold\": 0.8, \"variable\": \"Precision\", \"value\": 0.6851148851148852}, {\"Threshold\": 0.85, \"variable\": \"Precision\", \"value\": 0.6855067074740425}, {\"Threshold\": 0.9, \"variable\": \"Precision\", \"value\": 0.6861338993746773}, {\"Threshold\": 0.95, \"variable\": \"Precision\", \"value\": 0.6870354364736387}, {\"Threshold\": 0.5, \"variable\": \"Recall\", \"value\": 0.7388829380260138}, {\"Threshold\": 0.55, \"variable\": \"Recall\", \"value\": 0.7380872226472839}, {\"Threshold\": 0.6, \"variable\": \"Recall\", \"value\": 0.7374445294567712}, {\"Threshold\": 0.65, \"variable\": \"Recall\", \"value\": 0.7368018362662586}, {\"Threshold\": 0.7, \"variable\": \"Recall\", \"value\": 0.7362509563886763}, {\"Threshold\": 0.75, \"variable\": \"Recall\", \"value\": 0.7355776587605203}, {\"Threshold\": 0.8, \"variable\": \"Recall\", \"value\": 0.7345983167559296}, {\"Threshold\": 0.85, \"variable\": \"Recall\", \"value\": 0.7334659525631216}, {\"Threshold\": 0.9, \"variable\": \"Recall\", \"value\": 0.7320581484315226}, {\"Threshold\": 0.95, \"variable\": \"Recall\", \"value\": 0.7298240244835501}, {\"Threshold\": 0.5, \"variable\": \"F1 Score\", \"value\": 0.7101508956672647}, {\"Threshold\": 0.55, \"variable\": \"F1 Score\", \"value\": 0.7099186082451466}, {\"Threshold\": 0.6, \"variable\": \"F1 Score\", \"value\": 0.7097914457405443}, {\"Threshold\": 0.65, \"variable\": \"F1 Score\", \"value\": 0.7095804412219815}, {\"Threshold\": 0.7, \"variable\": \"F1 Score\", \"value\": 0.7094576661063434}, {\"Threshold\": 0.75, \"variable\": \"F1 Score\", \"value\": 0.7092062555326055}, {\"Threshold\": 0.8, \"variable\": \"F1 Score\", \"value\": 0.7089942401417811}, {\"Threshold\": 0.85, \"variable\": \"F1 Score\", \"value\": 0.7086758530959844}, {\"Threshold\": 0.9, \"variable\": \"F1 Score\", \"value\": 0.7083524586522943}, {\"Threshold\": 0.95, \"variable\": \"F1 Score\", \"value\": 0.707783631371967}, {\"Threshold\": 0.5, \"variable\": \"ROC AUC Score\", \"value\": 0.6984238714613619}, {\"Threshold\": 0.55, \"variable\": \"ROC AUC Score\", \"value\": 0.6984085692425401}, {\"Threshold\": 0.6, \"variable\": \"ROC AUC Score\", \"value\": 0.6984850803366488}, {\"Threshold\": 0.65, \"variable\": \"ROC AUC Score\", \"value\": 0.6984391736801838}, {\"Threshold\": 0.7, \"variable\": \"ROC AUC Score\", \"value\": 0.6984850803366488}, {\"Threshold\": 0.75, \"variable\": \"ROC AUC Score\", \"value\": 0.6983932670237183}, {\"Threshold\": 0.8, \"variable\": \"ROC AUC Score\", \"value\": 0.6984850803366488}, {\"Threshold\": 0.85, \"variable\": \"ROC AUC Score\", \"value\": 0.6984850803366487}, {\"Threshold\": 0.9, \"variable\": \"ROC AUC Score\", \"value\": 0.6985921958684009}, {\"Threshold\": 0.95, \"variable\": \"ROC AUC Score\", \"value\": 0.6986840091813313}]}}, {\"mode\": \"vega-lite\"});\n",
       "</script>"
      ],
      "text/plain": [
       "alt.Chart(...)"
      ]
     },
     "execution_count": 37,
     "metadata": {},
     "output_type": "execute_result"
    }
   ],
   "source": [
    "jUtils.classThres(Y=yTrain,X=tfTrain,model=gnb)"
   ]
  },
  {
   "cell_type": "code",
   "execution_count": 38,
   "id": "73f7f80e",
   "metadata": {
    "ExecuteTime": {
     "end_time": "2023-04-11T05:58:39.438786Z",
     "start_time": "2023-04-11T05:58:38.377355Z"
    }
   },
   "outputs": [
    {
     "data": {
      "text/html": [
       "\n",
       "<div id=\"altair-viz-132ed12859264e37bbbe6388d4167502\"></div>\n",
       "<script type=\"text/javascript\">\n",
       "  var VEGA_DEBUG = (typeof VEGA_DEBUG == \"undefined\") ? {} : VEGA_DEBUG;\n",
       "  (function(spec, embedOpt){\n",
       "    let outputDiv = document.currentScript.previousElementSibling;\n",
       "    if (outputDiv.id !== \"altair-viz-132ed12859264e37bbbe6388d4167502\") {\n",
       "      outputDiv = document.getElementById(\"altair-viz-132ed12859264e37bbbe6388d4167502\");\n",
       "    }\n",
       "    const paths = {\n",
       "      \"vega\": \"https://cdn.jsdelivr.net/npm//vega@5?noext\",\n",
       "      \"vega-lib\": \"https://cdn.jsdelivr.net/npm//vega-lib?noext\",\n",
       "      \"vega-lite\": \"https://cdn.jsdelivr.net/npm//vega-lite@4.17.0?noext\",\n",
       "      \"vega-embed\": \"https://cdn.jsdelivr.net/npm//vega-embed@6?noext\",\n",
       "    };\n",
       "\n",
       "    function maybeLoadScript(lib, version) {\n",
       "      var key = `${lib.replace(\"-\", \"\")}_version`;\n",
       "      return (VEGA_DEBUG[key] == version) ?\n",
       "        Promise.resolve(paths[lib]) :\n",
       "        new Promise(function(resolve, reject) {\n",
       "          var s = document.createElement('script');\n",
       "          document.getElementsByTagName(\"head\")[0].appendChild(s);\n",
       "          s.async = true;\n",
       "          s.onload = () => {\n",
       "            VEGA_DEBUG[key] = version;\n",
       "            return resolve(paths[lib]);\n",
       "          };\n",
       "          s.onerror = () => reject(`Error loading script: ${paths[lib]}`);\n",
       "          s.src = paths[lib];\n",
       "        });\n",
       "    }\n",
       "\n",
       "    function showError(err) {\n",
       "      outputDiv.innerHTML = `<div class=\"error\" style=\"color:red;\">${err}</div>`;\n",
       "      throw err;\n",
       "    }\n",
       "\n",
       "    function displayChart(vegaEmbed) {\n",
       "      vegaEmbed(outputDiv, spec, embedOpt)\n",
       "        .catch(err => showError(`Javascript Error: ${err.message}<br>This usually means there's a typo in your chart specification. See the javascript console for the full traceback.`));\n",
       "    }\n",
       "\n",
       "    if(typeof define === \"function\" && define.amd) {\n",
       "      requirejs.config({paths});\n",
       "      require([\"vega-embed\"], displayChart, err => showError(`Error loading script: ${err.message}`));\n",
       "    } else {\n",
       "      maybeLoadScript(\"vega\", \"5\")\n",
       "        .then(() => maybeLoadScript(\"vega-lite\", \"4.17.0\"))\n",
       "        .then(() => maybeLoadScript(\"vega-embed\", \"6\"))\n",
       "        .catch(showError)\n",
       "        .then(() => displayChart(vegaEmbed));\n",
       "    }\n",
       "  })({\"config\": {\"view\": {\"continuousWidth\": 400, \"continuousHeight\": 300}}, \"data\": {\"name\": \"data-27318cb8b7dea18b78595431201415b3\"}, \"mark\": {\"type\": \"line\", \"point\": {}}, \"encoding\": {\"color\": {\"field\": \"variable\", \"type\": \"nominal\"}, \"strokeDash\": {\"field\": \"variable\", \"type\": \"nominal\"}, \"tooltip\": [{\"field\": \"variable\", \"type\": \"nominal\"}, {\"field\": \"Threshold\", \"type\": \"quantitative\"}, {\"field\": \"value\", \"type\": \"quantitative\"}], \"x\": {\"field\": \"Threshold\", \"scale\": {\"domain\": [0.5, 1.0]}, \"type\": \"quantitative\"}, \"y\": {\"field\": \"value\", \"scale\": {\"domain\": [0.0, 1.0]}, \"type\": \"quantitative\"}}, \"height\": 600, \"title\": \"Classification Thresholds\", \"width\": 600, \"$schema\": \"https://vega.github.io/schema/vega-lite/v4.17.0.json\", \"datasets\": {\"data-27318cb8b7dea18b78595431201415b3\": [{\"Threshold\": 0.5, \"variable\": \"Accuracy\", \"value\": 0.6605730060936605}, {\"Threshold\": 0.55, \"variable\": \"Accuracy\", \"value\": 0.6613136720196613}, {\"Threshold\": 0.6, \"variable\": \"Accuracy\", \"value\": 0.6615156718176615}, {\"Threshold\": 0.65, \"variable\": \"Accuracy\", \"value\": 0.6621890044776622}, {\"Threshold\": 0.7, \"variable\": \"Accuracy\", \"value\": 0.6629296704036629}, {\"Threshold\": 0.75, \"variable\": \"Accuracy\", \"value\": 0.6634010032656634}, {\"Threshold\": 0.8, \"variable\": \"Accuracy\", \"value\": 0.6638386694946639}, {\"Threshold\": 0.85, \"variable\": \"Accuracy\", \"value\": 0.6647476685856647}, {\"Threshold\": 0.9, \"variable\": \"Accuracy\", \"value\": 0.6657913342086658}, {\"Threshold\": 0.95, \"variable\": \"Accuracy\", \"value\": 0.6668349998316668}, {\"Threshold\": 0.5, \"variable\": \"Precision\", \"value\": 0.2510229645093946}, {\"Threshold\": 0.55, \"variable\": \"Precision\", \"value\": 0.2513601741022851}, {\"Threshold\": 0.6, \"variable\": \"Precision\", \"value\": 0.25123648252158604}, {\"Threshold\": 0.65, \"variable\": \"Precision\", \"value\": 0.2516584096061802}, {\"Threshold\": 0.7, \"variable\": \"Precision\", \"value\": 0.25204073045527225}, {\"Threshold\": 0.75, \"variable\": \"Precision\", \"value\": 0.25221276237039536}, {\"Threshold\": 0.8, \"variable\": \"Precision\", \"value\": 0.2522804054054054}, {\"Threshold\": 0.85, \"variable\": \"Precision\", \"value\": 0.25273143050732616}, {\"Threshold\": 0.9, \"variable\": \"Precision\", \"value\": 0.2532290958531611}, {\"Threshold\": 0.95, \"variable\": \"Precision\", \"value\": 0.25322511747116616}, {\"Threshold\": 0.5, \"variable\": \"Recall\", \"value\": 0.7297887836853605}, {\"Threshold\": 0.55, \"variable\": \"Recall\", \"value\": 0.729060451565914}, {\"Threshold\": 0.6, \"variable\": \"Recall\", \"value\": 0.7276037873270211}, {\"Threshold\": 0.65, \"variable\": \"Recall\", \"value\": 0.7276037873270211}, {\"Threshold\": 0.7, \"variable\": \"Recall\", \"value\": 0.7271182325807235}, {\"Threshold\": 0.75, \"variable\": \"Recall\", \"value\": 0.726389900461277}, {\"Threshold\": 0.8, \"variable\": \"Recall\", \"value\": 0.7251760135955329}, {\"Threshold\": 0.85, \"variable\": \"Recall\", \"value\": 0.7244476814760864}, {\"Threshold\": 0.9, \"variable\": \"Recall\", \"value\": 0.7234765719834911}, {\"Threshold\": 0.95, \"variable\": \"Recall\", \"value\": 0.71959213401311}, {\"Threshold\": 0.5, \"variable\": \"F1 Score\", \"value\": 0.3735553622468001}, {\"Threshold\": 0.55, \"variable\": \"F1 Score\", \"value\": 0.3738329391261048}, {\"Threshold\": 0.6, \"variable\": \"F1 Score\", \"value\": 0.3735044865403788}, {\"Threshold\": 0.65, \"variable\": \"F1 Score\", \"value\": 0.373970551534814}, {\"Threshold\": 0.7, \"variable\": \"F1 Score\", \"value\": 0.3743282089738783}, {\"Threshold\": 0.75, \"variable\": \"F1 Score\", \"value\": 0.3744212238768615}, {\"Threshold\": 0.8, \"variable\": \"F1 Score\", \"value\": 0.3743342314681371}, {\"Threshold\": 0.85, \"variable\": \"F1 Score\", \"value\": 0.3747331407760894}, {\"Threshold\": 0.9, \"variable\": \"F1 Score\", \"value\": 0.37514949329640584}, {\"Threshold\": 0.95, \"variable\": \"F1 Score\", \"value\": 0.3746208291203235}, {\"Threshold\": 0.5, \"variable\": \"ROC AUC Score\", \"value\": 0.6896090572585651}, {\"Threshold\": 0.55, \"variable\": \"ROC AUC Score\", \"value\": 0.6897334778154773}, {\"Threshold\": 0.6, \"variable\": \"ROC AUC Score\", \"value\": 0.689239667272016}, {\"Threshold\": 0.65, \"variable\": \"ROC AUC Score\", \"value\": 0.6896305365653241}, {\"Threshold\": 0.7, \"variable\": \"ROC AUC Score\", \"value\": 0.6898568023441454}, {\"Threshold\": 0.75, \"variable\": \"ROC AUC Score\", \"value\": 0.6898248751837343}, {\"Threshold\": 0.8, \"variable\": \"ROC AUC Score\", \"value\": 0.6895697141148397}, {\"Threshold\": 0.85, \"variable\": \"ROC AUC Score\", \"value\": 0.6897918519950788}, {\"Threshold\": 0.9, \"variable\": \"ROC AUC Score\", \"value\": 0.6899903185120707}, {\"Threshold\": 0.95, \"variable\": \"ROC AUC Score\", \"value\": 0.6889666423661547}]}}, {\"mode\": \"vega-lite\"});\n",
       "</script>"
      ],
      "text/plain": [
       "alt.Chart(...)"
      ]
     },
     "execution_count": 38,
     "metadata": {},
     "output_type": "execute_result"
    }
   ],
   "source": [
    "jUtils.classThres(Y=yVal,X=tfVal,model=gnb)"
   ]
  },
  {
   "cell_type": "code",
   "execution_count": 55,
   "id": "87e477c6",
   "metadata": {
    "ExecuteTime": {
     "end_time": "2023-04-11T02:42:55.733948Z",
     "start_time": "2023-04-11T02:42:53.210784Z"
    }
   },
   "outputs": [
    {
     "name": "stderr",
     "output_type": "stream",
     "text": [
      "C:\\ProgramData\\Anaconda3\\lib\\site-packages\\sklearn\\utils\\deprecation.py:87: FutureWarning: Function plot_confusion_matrix is deprecated; Function `plot_confusion_matrix` is deprecated in 1.0 and will be removed in 1.2. Use one of the class methods: ConfusionMatrixDisplay.from_predictions or ConfusionMatrixDisplay.from_estimator.\n",
      "  warnings.warn(msg, category=FutureWarning)\n"
     ]
    },
    {
     "data": {
      "image/png": "[encoded data removed]",
      "text/plain": [
       "<Figure size 640x480 with 2 Axes>"
      ]
     },
     "metadata": {},
     "output_type": "display_data"
    }
   ],
   "source": [
    "plot_confusion_matrix(estimator=gnb, X=tfTrain, y_true=yTrain)\n",
    "plt.show()"
   ]
  },
  {
   "cell_type": "code",
   "execution_count": 54,
   "id": "c05e611c",
   "metadata": {
    "ExecuteTime": {
     "end_time": "2023-04-11T02:42:36.437147Z",
     "start_time": "2023-04-11T02:42:35.101817Z"
    }
   },
   "outputs": [
    {
     "name": "stderr",
     "output_type": "stream",
     "text": [
      "C:\\ProgramData\\Anaconda3\\lib\\site-packages\\sklearn\\utils\\deprecation.py:87: FutureWarning: Function plot_confusion_matrix is deprecated; Function `plot_confusion_matrix` is deprecated in 1.0 and will be removed in 1.2. Use one of the class methods: ConfusionMatrixDisplay.from_predictions or ConfusionMatrixDisplay.from_estimator.\n",
      "  warnings.warn(msg, category=FutureWarning)\n"
     ]
    },
    {
     "data": {
      "image/png": "[encoded data removed]",
      "text/plain": [
       "<Figure size 640x480 with 2 Axes>"
      ]
     },
     "metadata": {},
     "output_type": "display_data"
    }
   ],
   "source": [
    "plot_confusion_matrix(estimator=gnb, X=tfVal, y_true=yVal)\n",
    "plt.show()"
   ]
  },
  {
   "cell_type": "code",
   "execution_count": null,
   "id": "d7910a4e",
   "metadata": {},
   "outputs": [],
   "source": []
  },
  {
   "cell_type": "markdown",
   "id": "5e6248f1",
   "metadata": {},
   "source": [
    "# Random Forests"
   ]
  },
  {
   "cell_type": "code",
   "execution_count": 12,
   "id": "d5ef698c",
   "metadata": {
    "ExecuteTime": {
     "end_time": "2023-04-11T04:28:21.767486Z",
     "start_time": "2023-04-11T04:28:21.676845Z"
    }
   },
   "outputs": [],
   "source": [
    "from sklearn.ensemble import RandomForestClassifier\n",
    "from sklearn.tree import plot_tree"
   ]
  },
  {
   "cell_type": "code",
   "execution_count": 13,
   "id": "dcffd5a2",
   "metadata": {
    "ExecuteTime": {
     "end_time": "2023-04-11T04:28:21.783432Z",
     "start_time": "2023-04-11T04:28:21.768998Z"
    }
   },
   "outputs": [],
   "source": [
    "rf = RandomForestClassifier(random_state=11,n_estimators=150)"
   ]
  },
  {
   "cell_type": "code",
   "execution_count": 14,
   "id": "4eeef1bb",
   "metadata": {
    "ExecuteTime": {
     "end_time": "2023-04-11T04:33:25.691038Z",
     "start_time": "2023-04-11T04:28:21.785479Z"
    }
   },
   "outputs": [
    {
     "data": {
      "text/plain": [
       "RandomForestClassifier(n_estimators=150, random_state=11)"
      ]
     },
     "execution_count": 14,
     "metadata": {},
     "output_type": "execute_result"
    }
   ],
   "source": [
    "rf.fit(tfTrain,yTrain)"
   ]
  },
  {
   "cell_type": "code",
   "execution_count": 15,
   "id": "f76a1d9b",
   "metadata": {
    "ExecuteTime": {
     "end_time": "2023-04-11T04:33:37.521835Z",
     "start_time": "2023-04-11T04:33:25.694034Z"
    }
   },
   "outputs": [
    {
     "data": {
      "text/html": [
       "\n",
       "<div id=\"altair-viz-d597fca5d6544c39a5d7cfc68f165d81\"></div>\n",
       "<script type=\"text/javascript\">\n",
       "  var VEGA_DEBUG = (typeof VEGA_DEBUG == \"undefined\") ? {} : VEGA_DEBUG;\n",
       "  (function(spec, embedOpt){\n",
       "    let outputDiv = document.currentScript.previousElementSibling;\n",
       "    if (outputDiv.id !== \"altair-viz-d597fca5d6544c39a5d7cfc68f165d81\") {\n",
       "      outputDiv = document.getElementById(\"altair-viz-d597fca5d6544c39a5d7cfc68f165d81\");\n",
       "    }\n",
       "    const paths = {\n",
       "      \"vega\": \"https://cdn.jsdelivr.net/npm//vega@5?noext\",\n",
       "      \"vega-lib\": \"https://cdn.jsdelivr.net/npm//vega-lib?noext\",\n",
       "      \"vega-lite\": \"https://cdn.jsdelivr.net/npm//vega-lite@4.17.0?noext\",\n",
       "      \"vega-embed\": \"https://cdn.jsdelivr.net/npm//vega-embed@6?noext\",\n",
       "    };\n",
       "\n",
       "    function maybeLoadScript(lib, version) {\n",
       "      var key = `${lib.replace(\"-\", \"\")}_version`;\n",
       "      return (VEGA_DEBUG[key] == version) ?\n",
       "        Promise.resolve(paths[lib]) :\n",
       "        new Promise(function(resolve, reject) {\n",
       "          var s = document.createElement('script');\n",
       "          document.getElementsByTagName(\"head\")[0].appendChild(s);\n",
       "          s.async = true;\n",
       "          s.onload = () => {\n",
       "            VEGA_DEBUG[key] = version;\n",
       "            return resolve(paths[lib]);\n",
       "          };\n",
       "          s.onerror = () => reject(`Error loading script: ${paths[lib]}`);\n",
       "          s.src = paths[lib];\n",
       "        });\n",
       "    }\n",
       "\n",
       "    function showError(err) {\n",
       "      outputDiv.innerHTML = `<div class=\"error\" style=\"color:red;\">${err}</div>`;\n",
       "      throw err;\n",
       "    }\n",
       "\n",
       "    function displayChart(vegaEmbed) {\n",
       "      vegaEmbed(outputDiv, spec, embedOpt)\n",
       "        .catch(err => showError(`Javascript Error: ${err.message}<br>This usually means there's a typo in your chart specification. See the javascript console for the full traceback.`));\n",
       "    }\n",
       "\n",
       "    if(typeof define === \"function\" && define.amd) {\n",
       "      requirejs.config({paths});\n",
       "      require([\"vega-embed\"], displayChart, err => showError(`Error loading script: ${err.message}`));\n",
       "    } else {\n",
       "      maybeLoadScript(\"vega\", \"5\")\n",
       "        .then(() => maybeLoadScript(\"vega-lite\", \"4.17.0\"))\n",
       "        .then(() => maybeLoadScript(\"vega-embed\", \"6\"))\n",
       "        .catch(showError)\n",
       "        .then(() => displayChart(vegaEmbed));\n",
       "    }\n",
       "  })({\"config\": {\"view\": {\"continuousWidth\": 400, \"continuousHeight\": 300}}, \"data\": {\"name\": \"data-a25379a3173c7ed85308acb167361e81\"}, \"mark\": {\"type\": \"line\", \"point\": {}}, \"encoding\": {\"color\": {\"field\": \"variable\", \"type\": \"nominal\"}, \"strokeDash\": {\"field\": \"variable\", \"type\": \"nominal\"}, \"tooltip\": [{\"field\": \"variable\", \"type\": \"nominal\"}, {\"field\": \"Threshold\", \"type\": \"quantitative\"}, {\"field\": \"value\", \"type\": \"quantitative\"}], \"x\": {\"field\": \"Threshold\", \"scale\": {\"domain\": [0.5, 1.0]}, \"type\": \"quantitative\"}, \"y\": {\"field\": \"value\", \"scale\": {\"domain\": [0.0, 1.0]}, \"type\": \"quantitative\"}}, \"height\": 600, \"title\": \"Classification Thresholds\", \"width\": 600, \"$schema\": \"https://vega.github.io/schema/vega-lite/v4.17.0.json\", \"datasets\": {\"data-a25379a3173c7ed85308acb167361e81\": [{\"Threshold\": 0.5, \"variable\": \"Accuracy\", \"value\": 0.9736342769701607}, {\"Threshold\": 0.55, \"variable\": \"Accuracy\", \"value\": 0.9727926549349656}, {\"Threshold\": 0.6, \"variable\": \"Accuracy\", \"value\": 0.9719969395562357}, {\"Threshold\": 0.65, \"variable\": \"Accuracy\", \"value\": 0.9694108645753634}, {\"Threshold\": 0.7, \"variable\": \"Accuracy\", \"value\": 0.9599081866870697}, {\"Threshold\": 0.75, \"variable\": \"Accuracy\", \"value\": 0.9355776587605202}, {\"Threshold\": 0.8, \"variable\": \"Accuracy\", \"value\": 0.8767865340474369}, {\"Threshold\": 0.85, \"variable\": \"Accuracy\", \"value\": 0.7956388676358072}, {\"Threshold\": 0.9, \"variable\": \"Accuracy\", \"value\": 0.6988370313695486}, {\"Threshold\": 0.95, \"variable\": \"Accuracy\", \"value\": 0.61061973986228}, {\"Threshold\": 0.5, \"variable\": \"Precision\", \"value\": 0.9650240384615385}, {\"Threshold\": 0.55, \"variable\": \"Precision\", \"value\": 0.988675544870781}, {\"Threshold\": 0.6, \"variable\": \"Precision\", \"value\": 0.9919300819750566}, {\"Threshold\": 0.65, \"variable\": \"Precision\", \"value\": 0.9948061165236467}, {\"Threshold\": 0.7, \"variable\": \"Precision\", \"value\": 0.9965306459606806}, {\"Threshold\": 0.75, \"variable\": \"Precision\", \"value\": 0.9972747283463191}, {\"Threshold\": 0.8, \"variable\": \"Precision\", \"value\": 0.999351044412898}, {\"Threshold\": 0.85, \"variable\": \"Precision\", \"value\": 0.9992764109985528}, {\"Threshold\": 0.9, \"variable\": \"Precision\", \"value\": 0.9995386744579425}, {\"Threshold\": 0.95, \"variable\": \"Precision\", \"value\": 0.9998617065412806}, {\"Threshold\": 0.5, \"variable\": \"Recall\", \"value\": 0.9828921193573068}, {\"Threshold\": 0.55, \"variable\": \"Recall\", \"value\": 0.9565416985462892}, {\"Threshold\": 0.6, \"variable\": \"Recall\", \"value\": 0.9517368018362663}, {\"Threshold\": 0.65, \"variable\": \"Recall\", \"value\": 0.9437490436113236}, {\"Threshold\": 0.7, \"variable\": \"Recall\", \"value\": 0.9230298393267024}, {\"Threshold\": 0.75, \"variable\": \"Recall\", \"value\": 0.8735424636572303}, {\"Threshold\": 0.8, \"variable\": \"Recall\", \"value\": 0.7540627390971691}, {\"Threshold\": 0.85, \"variable\": \"Recall\", \"value\": 0.5917061973986228}, {\"Threshold\": 0.9, \"variable\": \"Recall\", \"value\": 0.3978576893649579}, {\"Threshold\": 0.95, \"variable\": \"Recall\", \"value\": 0.2212700841622035}, {\"Threshold\": 0.5, \"variable\": \"F1 Score\", \"value\": 0.9738761276628004}, {\"Threshold\": 0.55, \"variable\": \"F1 Score\", \"value\": 0.9723432055749128}, {\"Threshold\": 0.6, \"variable\": \"F1 Score\", \"value\": 0.9714178614937682}, {\"Threshold\": 0.65, \"variable\": \"F1 Score\", \"value\": 0.9686052172820505}, {\"Threshold\": 0.7, \"variable\": \"F1 Score\", \"value\": 0.9583730537019385}, {\"Threshold\": 0.75, \"variable\": \"F1 Score\", \"value\": 0.9313168885408509}, {\"Threshold\": 0.8, \"variable\": \"F1 Score\", \"value\": 0.8595499738356882}, {\"Threshold\": 0.85, \"variable\": \"F1 Score\", \"value\": 0.7432866232243431}, {\"Threshold\": 0.9, \"variable\": \"F1 Score\", \"value\": 0.5691644228453844}, {\"Threshold\": 0.95, \"variable\": \"F1 Score\", \"value\": 0.3623515260863028}, {\"Threshold\": 0.5, \"variable\": \"ROC AUC Score\", \"value\": 0.9736342769701607}, {\"Threshold\": 0.55, \"variable\": \"ROC AUC Score\", \"value\": 0.9727926549349656}, {\"Threshold\": 0.6, \"variable\": \"ROC AUC Score\", \"value\": 0.9719969395562356}, {\"Threshold\": 0.65, \"variable\": \"ROC AUC Score\", \"value\": 0.9694108645753634}, {\"Threshold\": 0.7, \"variable\": \"ROC AUC Score\", \"value\": 0.9599081866870697}, {\"Threshold\": 0.75, \"variable\": \"ROC AUC Score\", \"value\": 0.9355776587605203}, {\"Threshold\": 0.8, \"variable\": \"ROC AUC Score\", \"value\": 0.8767865340474368}, {\"Threshold\": 0.85, \"variable\": \"ROC AUC Score\", \"value\": 0.7956388676358072}, {\"Threshold\": 0.9, \"variable\": \"ROC AUC Score\", \"value\": 0.6988370313695486}, {\"Threshold\": 0.95, \"variable\": \"ROC AUC Score\", \"value\": 0.61061973986228}]}}, {\"mode\": \"vega-lite\"});\n",
       "</script>"
      ],
      "text/plain": [
       "alt.Chart(...)"
      ]
     },
     "execution_count": 15,
     "metadata": {},
     "output_type": "execute_result"
    }
   ],
   "source": [
    "jUtils.classThres(Y=yTrain,X=tfTrain,model=rf)"
   ]
  },
  {
   "cell_type": "code",
   "execution_count": 16,
   "id": "23353c51",
   "metadata": {
    "ExecuteTime": {
     "end_time": "2023-04-11T04:33:42.927737Z",
     "start_time": "2023-04-11T04:33:37.524697Z"
    }
   },
   "outputs": [
    {
     "data": {
      "text/html": [
       "\n",
       "<div id=\"altair-viz-aef20a13e87c456d8b4e7d347d822553\"></div>\n",
       "<script type=\"text/javascript\">\n",
       "  var VEGA_DEBUG = (typeof VEGA_DEBUG == \"undefined\") ? {} : VEGA_DEBUG;\n",
       "  (function(spec, embedOpt){\n",
       "    let outputDiv = document.currentScript.previousElementSibling;\n",
       "    if (outputDiv.id !== \"altair-viz-aef20a13e87c456d8b4e7d347d822553\") {\n",
       "      outputDiv = document.getElementById(\"altair-viz-aef20a13e87c456d8b4e7d347d822553\");\n",
       "    }\n",
       "    const paths = {\n",
       "      \"vega\": \"https://cdn.jsdelivr.net/npm//vega@5?noext\",\n",
       "      \"vega-lib\": \"https://cdn.jsdelivr.net/npm//vega-lib?noext\",\n",
       "      \"vega-lite\": \"https://cdn.jsdelivr.net/npm//vega-lite@4.17.0?noext\",\n",
       "      \"vega-embed\": \"https://cdn.jsdelivr.net/npm//vega-embed@6?noext\",\n",
       "    };\n",
       "\n",
       "    function maybeLoadScript(lib, version) {\n",
       "      var key = `${lib.replace(\"-\", \"\")}_version`;\n",
       "      return (VEGA_DEBUG[key] == version) ?\n",
       "        Promise.resolve(paths[lib]) :\n",
       "        new Promise(function(resolve, reject) {\n",
       "          var s = document.createElement('script');\n",
       "          document.getElementsByTagName(\"head\")[0].appendChild(s);\n",
       "          s.async = true;\n",
       "          s.onload = () => {\n",
       "            VEGA_DEBUG[key] = version;\n",
       "            return resolve(paths[lib]);\n",
       "          };\n",
       "          s.onerror = () => reject(`Error loading script: ${paths[lib]}`);\n",
       "          s.src = paths[lib];\n",
       "        });\n",
       "    }\n",
       "\n",
       "    function showError(err) {\n",
       "      outputDiv.innerHTML = `<div class=\"error\" style=\"color:red;\">${err}</div>`;\n",
       "      throw err;\n",
       "    }\n",
       "\n",
       "    function displayChart(vegaEmbed) {\n",
       "      vegaEmbed(outputDiv, spec, embedOpt)\n",
       "        .catch(err => showError(`Javascript Error: ${err.message}<br>This usually means there's a typo in your chart specification. See the javascript console for the full traceback.`));\n",
       "    }\n",
       "\n",
       "    if(typeof define === \"function\" && define.amd) {\n",
       "      requirejs.config({paths});\n",
       "      require([\"vega-embed\"], displayChart, err => showError(`Error loading script: ${err.message}`));\n",
       "    } else {\n",
       "      maybeLoadScript(\"vega\", \"5\")\n",
       "        .then(() => maybeLoadScript(\"vega-lite\", \"4.17.0\"))\n",
       "        .then(() => maybeLoadScript(\"vega-embed\", \"6\"))\n",
       "        .catch(showError)\n",
       "        .then(() => displayChart(vegaEmbed));\n",
       "    }\n",
       "  })({\"config\": {\"view\": {\"continuousWidth\": 400, \"continuousHeight\": 300}}, \"data\": {\"name\": \"data-c9e6b349131f88512d4f5fc8305a505a\"}, \"mark\": {\"type\": \"line\", \"point\": {}}, \"encoding\": {\"color\": {\"field\": \"variable\", \"type\": \"nominal\"}, \"strokeDash\": {\"field\": \"variable\", \"type\": \"nominal\"}, \"tooltip\": [{\"field\": \"variable\", \"type\": \"nominal\"}, {\"field\": \"Threshold\", \"type\": \"quantitative\"}, {\"field\": \"value\", \"type\": \"quantitative\"}], \"x\": {\"field\": \"Threshold\", \"scale\": {\"domain\": [0.5, 1.0]}, \"type\": \"quantitative\"}, \"y\": {\"field\": \"value\", \"scale\": {\"domain\": [0.0, 1.0]}, \"type\": \"quantitative\"}}, \"height\": 600, \"title\": \"Classification Thresholds\", \"width\": 600, \"$schema\": \"https://vega.github.io/schema/vega-lite/v4.17.0.json\", \"datasets\": {\"data-c9e6b349131f88512d4f5fc8305a505a\": [{\"Threshold\": 0.5, \"variable\": \"Accuracy\", \"value\": 0.7271319395347271}, {\"Threshold\": 0.55, \"variable\": \"Accuracy\", \"value\": 0.7849038817627849}, {\"Threshold\": 0.6, \"variable\": \"Accuracy\", \"value\": 0.8194795138538195}, {\"Threshold\": 0.65, \"variable\": \"Accuracy\", \"value\": 0.8443591556408444}, {\"Threshold\": 0.7, \"variable\": \"Accuracy\", \"value\": 0.8635154698178635}, {\"Threshold\": 0.75, \"variable\": \"Accuracy\", \"value\": 0.8732114601218732}, {\"Threshold\": 0.8, \"variable\": \"Accuracy\", \"value\": 0.8795744537588795}, {\"Threshold\": 0.85, \"variable\": \"Accuracy\", \"value\": 0.8807191192808808}, {\"Threshold\": 0.9, \"variable\": \"Accuracy\", \"value\": 0.8751977914688752}, {\"Threshold\": 0.95, \"variable\": \"Accuracy\", \"value\": 0.8685317981348686}, {\"Threshold\": 0.5, \"variable\": \"Precision\", \"value\": 0.30495204541006066}, {\"Threshold\": 0.55, \"variable\": \"Precision\", \"value\": 0.35294117647058826}, {\"Threshold\": 0.6, \"variable\": \"Precision\", \"value\": 0.3965029142381349}, {\"Threshold\": 0.65, \"variable\": \"Precision\", \"value\": 0.4458064516129032}, {\"Threshold\": 0.7, \"variable\": \"Precision\", \"value\": 0.5093686941481695}, {\"Threshold\": 0.75, \"variable\": \"Precision\", \"value\": 0.5663783377209477}, {\"Threshold\": 0.8, \"variable\": \"Precision\", \"value\": 0.640124095139607}, {\"Threshold\": 0.85, \"variable\": \"Precision\", \"value\": 0.7005571030640668}, {\"Threshold\": 0.9, \"variable\": \"Precision\", \"value\": 0.7417840375586855}, {\"Threshold\": 0.95, \"variable\": \"Precision\", \"value\": 0.7891891891891892}, {\"Threshold\": 0.5, \"variable\": \"Recall\", \"value\": 0.756494294731731}, {\"Threshold\": 0.55, \"variable\": \"Recall\", \"value\": 0.6613255644573925}, {\"Threshold\": 0.6, \"variable\": \"Recall\", \"value\": 0.5780529254673464}, {\"Threshold\": 0.65, \"variable\": \"Recall\", \"value\": 0.5032774945375091}, {\"Threshold\": 0.7, \"variable\": \"Recall\", \"value\": 0.4289876183539694}, {\"Threshold\": 0.75, \"variable\": \"Recall\", \"value\": 0.36562272396212675}, {\"Threshold\": 0.8, \"variable\": \"Recall\", \"value\": 0.3005583879582423}, {\"Threshold\": 0.85, \"variable\": \"Recall\", \"value\": 0.24423403738771546}, {\"Threshold\": 0.9, \"variable\": \"Recall\", \"value\": 0.15343529983005583}, {\"Threshold\": 0.95, \"variable\": \"Recall\", \"value\": 0.07089099295945618}, {\"Threshold\": 0.5, \"variable\": \"F1 Score\", \"value\": 0.4346795005928716}, {\"Threshold\": 0.55, \"variable\": \"F1 Score\", \"value\": 0.46025175297795046}, {\"Threshold\": 0.6, \"variable\": \"F1 Score\", \"value\": 0.47036744369814304}, {\"Threshold\": 0.65, \"variable\": \"F1 Score\", \"value\": 0.4728019158398905}, {\"Threshold\": 0.7, \"variable\": \"F1 Score\", \"value\": 0.4657353716394307}, {\"Threshold\": 0.75, \"variable\": \"F1 Score\", \"value\": 0.4443788728238418}, {\"Threshold\": 0.8, \"variable\": \"F1 Score\", \"value\": 0.4090533619692714}, {\"Threshold\": 0.85, \"variable\": \"F1 Score\", \"value\": 0.3621962196219622}, {\"Threshold\": 0.9, \"variable\": \"F1 Score\", \"value\": 0.25427479380406354}, {\"Threshold\": 0.95, \"variable\": \"F1 Score\", \"value\": 0.13009578970817554}, {\"Threshold\": 0.5, \"variable\": \"ROC AUC Score\", \"value\": 0.7394494613120819}, {\"Threshold\": 0.55, \"variable\": \"ROC AUC Score\", \"value\": 0.7330627196896093}, {\"Threshold\": 0.6, \"variable\": \"ROC AUC Score\", \"value\": 0.718200946786206}, {\"Threshold\": 0.65, \"variable\": \"ROC AUC Score\", \"value\": 0.701275238825978}, {\"Threshold\": 0.7, \"variable\": \"ROC AUC Score\", \"value\": 0.6812308323164469}, {\"Threshold\": 0.75, \"variable\": \"ROC AUC Score\", \"value\": 0.6602777472218389}, {\"Threshold\": 0.8, \"variable\": \"ROC AUC Score\", \"value\": 0.6366769425719917}, {\"Threshold\": 0.85, \"variable\": \"ROC AUC Score\", \"value\": 0.6137133288877289}, {\"Threshold\": 0.9, \"variable\": \"ROC AUC Score\", \"value\": 0.5724180876886364}, {\"Threshold\": 0.95, \"variable\": \"ROC AUC Score\", \"value\": 0.5339211062358257}]}}, {\"mode\": \"vega-lite\"});\n",
       "</script>"
      ],
      "text/plain": [
       "alt.Chart(...)"
      ]
     },
     "execution_count": 16,
     "metadata": {},
     "output_type": "execute_result"
    }
   ],
   "source": [
    "jUtils.classThres(Y=yVal,X=tfVal,model=rf)"
   ]
  },
  {
   "cell_type": "code",
   "execution_count": null,
   "id": "81308fc3",
   "metadata": {},
   "outputs": [],
   "source": [
    "rf.estimators_[0]"
   ]
  },
  {
   "cell_type": "code",
   "execution_count": 15,
   "id": "b65c0de4",
   "metadata": {
    "ExecuteTime": {
     "end_time": "2023-04-11T04:26:39.673940Z",
     "start_time": "2023-04-11T04:26:39.661572Z"
    }
   },
   "outputs": [
    {
     "data": {
      "text/plain": [
       "DecisionTreeClassifier(max_features='auto', random_state=774252441)"
      ]
     },
     "execution_count": 15,
     "metadata": {},
     "output_type": "execute_result"
    }
   ],
   "source": [
    "rf.estimators_[0]"
   ]
  },
  {
   "cell_type": "code",
   "execution_count": 17,
   "id": "3d3a61d0",
   "metadata": {
    "ExecuteTime": {
     "end_time": "2023-04-11T04:34:44.635195Z",
     "start_time": "2023-04-11T04:34:39.680244Z"
    }
   },
   "outputs": [
    {
     "name": "stderr",
     "output_type": "stream",
     "text": [
      "C:\\ProgramData\\Anaconda3\\lib\\site-packages\\sklearn\\utils\\deprecation.py:87: FutureWarning: Function plot_confusion_matrix is deprecated; Function `plot_confusion_matrix` is deprecated in 1.0 and will be removed in 1.2. Use one of the class methods: ConfusionMatrixDisplay.from_predictions or ConfusionMatrixDisplay.from_estimator.\n",
      "  warnings.warn(msg, category=FutureWarning)\n"
     ]
    },
    {
     "data": {
      "image/png": "[encoded data removed]",
      "text/plain": [
       "<Figure size 640x480 with 2 Axes>"
      ]
     },
     "metadata": {},
     "output_type": "display_data"
    }
   ],
   "source": [
    "plot_confusion_matrix(estimator=rf, X=tfVal, y_true=yVal)\n",
    "plt.show()"
   ]
  },
  {
   "cell_type": "code",
   "execution_count": 18,
   "id": "ab2f13ab",
   "metadata": {
    "ExecuteTime": {
     "end_time": "2023-04-11T04:35:12.816683Z",
     "start_time": "2023-04-11T04:35:01.871480Z"
    }
   },
   "outputs": [
    {
     "name": "stderr",
     "output_type": "stream",
     "text": [
      "C:\\ProgramData\\Anaconda3\\lib\\site-packages\\sklearn\\utils\\deprecation.py:87: FutureWarning: Function plot_confusion_matrix is deprecated; Function `plot_confusion_matrix` is deprecated in 1.0 and will be removed in 1.2. Use one of the class methods: ConfusionMatrixDisplay.from_predictions or ConfusionMatrixDisplay.from_estimator.\n",
      "  warnings.warn(msg, category=FutureWarning)\n"
     ]
    },
    {
     "data": {
      "image/png": "[encoded data removed]",
      "text/plain": [
       "<Figure size 640x480 with 2 Axes>"
      ]
     },
     "metadata": {},
     "output_type": "display_data"
    }
   ],
   "source": [
    "plot_confusion_matrix(estimator=rf, X=tfTrain, y_true=yTrain)\n",
    "plt.show()"
   ]
  },
  {
   "cell_type": "code",
   "execution_count": null,
   "id": "0f3b5c10",
   "metadata": {
    "ExecuteTime": {
     "start_time": "2023-04-11T04:26:46.758Z"
    }
   },
   "outputs": [],
   "source": [
    "plt.figure(figsize=(8,8))\n",
    "plot_tree(rf.estimators_[0], filled=True)\n",
    "plt.show()"
   ]
  },
  {
   "cell_type": "markdown",
   "id": "b3d1f1ba",
   "metadata": {},
   "source": [
    "# SVM"
   ]
  },
  {
   "cell_type": "code",
   "execution_count": 15,
   "id": "724c9ca9",
   "metadata": {
    "ExecuteTime": {
     "end_time": "2023-04-11T05:44:38.015248Z",
     "start_time": "2023-04-11T05:44:38.002975Z"
    }
   },
   "outputs": [],
   "source": [
    "from sklearn.svm import SVC"
   ]
  },
  {
   "cell_type": "code",
   "execution_count": 18,
   "id": "23460fc3",
   "metadata": {
    "ExecuteTime": {
     "end_time": "2023-04-11T05:45:08.020963Z",
     "start_time": "2023-04-11T05:45:08.008871Z"
    }
   },
   "outputs": [],
   "source": [
    "svm_model = SVC(kernel='linear')"
   ]
  },
  {
   "cell_type": "code",
   "execution_count": 19,
   "id": "8c5367f6",
   "metadata": {
    "ExecuteTime": {
     "end_time": "2023-04-11T05:45:08.271969Z",
     "start_time": "2023-04-11T05:45:08.022818Z"
    }
   },
   "outputs": [
    {
     "data": {
      "text/plain": [
       "SVC(kernel='linear')"
      ]
     },
     "execution_count": 19,
     "metadata": {},
     "output_type": "execute_result"
    }
   ],
   "source": [
    "svm_model.fit(tfTrain,yTrain)    "
   ]
  },
  {
   "cell_type": "code",
   "execution_count": 20,
   "id": "d3f6a09e",
   "metadata": {
    "ExecuteTime": {
     "end_time": "2023-04-11T05:45:17.009743Z",
     "start_time": "2023-04-11T05:45:16.995260Z"
    }
   },
   "outputs": [],
   "source": [
    "from sklearn.metrics import accuracy_score"
   ]
  },
  {
   "cell_type": "code",
   "execution_count": 21,
   "id": "987468ca",
   "metadata": {
    "ExecuteTime": {
     "end_time": "2023-04-11T05:45:38.415398Z",
     "start_time": "2023-04-11T05:45:37.998813Z"
    }
   },
   "outputs": [],
   "source": [
    "trainPred = svm_model.predict(tfTrain)\n",
    "valPred = svm_model.predict(tfVal)"
   ]
  },
  {
   "cell_type": "code",
   "execution_count": 23,
   "id": "16549626",
   "metadata": {
    "ExecuteTime": {
     "end_time": "2023-04-11T05:46:02.015523Z",
     "start_time": "2023-04-11T05:46:02.001285Z"
    }
   },
   "outputs": [
    {
     "data": {
      "text/plain": [
       "0.897"
      ]
     },
     "execution_count": 23,
     "metadata": {},
     "output_type": "execute_result"
    }
   ],
   "source": [
    "accuracy_score(yTrain, trainPred)"
   ]
  },
  {
   "cell_type": "code",
   "execution_count": 24,
   "id": "7e2ace9e",
   "metadata": {
    "ExecuteTime": {
     "end_time": "2023-04-11T05:46:13.529445Z",
     "start_time": "2023-04-11T05:46:13.517676Z"
    }
   },
   "outputs": [
    {
     "data": {
      "text/plain": [
       "0.674"
      ]
     },
     "execution_count": 24,
     "metadata": {},
     "output_type": "execute_result"
    }
   ],
   "source": [
    "accuracy_score(yVal, valPred)"
   ]
  },
  {
   "cell_type": "code",
   "execution_count": 29,
   "id": "dcea31d8",
   "metadata": {
    "ExecuteTime": {
     "end_time": "2023-04-11T05:56:56.348728Z",
     "start_time": "2023-04-11T05:56:56.005842Z"
    }
   },
   "outputs": [
    {
     "name": "stderr",
     "output_type": "stream",
     "text": [
      "C:\\ProgramData\\Anaconda3\\lib\\site-packages\\sklearn\\utils\\deprecation.py:87: FutureWarning: Function plot_confusion_matrix is deprecated; Function `plot_confusion_matrix` is deprecated in 1.0 and will be removed in 1.2. Use one of the class methods: ConfusionMatrixDisplay.from_predictions or ConfusionMatrixDisplay.from_estimator.\n",
      "  warnings.warn(msg, category=FutureWarning)\n"
     ]
    },
    {
     "data": {
      "image/png": "[encoded data removed]",
      "text/plain": [
       "<Figure size 640x480 with 2 Axes>"
      ]
     },
     "metadata": {},
     "output_type": "display_data"
    }
   ],
   "source": [
    "plot_confusion_matrix(estimator=svm_model, X=tfVal, y_true=yVal)\n",
    "plt.show()"
   ]
  },
  {
   "cell_type": "code",
   "execution_count": 28,
   "id": "76ad393e",
   "metadata": {
    "ExecuteTime": {
     "end_time": "2023-04-11T05:47:56.059230Z",
     "start_time": "2023-04-11T05:47:56.000077Z"
    }
   },
   "outputs": [
    {
     "data": {
      "text/html": [
       "<div>\n",
       "<style scoped>\n",
       "    .dataframe tbody tr th:only-of-type {\n",
       "        vertical-align: middle;\n",
       "    }\n",
       "\n",
       "    .dataframe tbody tr th {\n",
       "        vertical-align: top;\n",
       "    }\n",
       "\n",
       "    .dataframe thead th {\n",
       "        text-align: right;\n",
       "    }\n",
       "</style>\n",
       "<table border=\"1\" class=\"dataframe\">\n",
       "  <thead>\n",
       "    <tr style=\"text-align: right;\">\n",
       "      <th></th>\n",
       "      <th>Unnamed: 0</th>\n",
       "      <th>id</th>\n",
       "      <th>label</th>\n",
       "      <th>selftext</th>\n",
       "      <th>cleaned</th>\n",
       "      <th>Negative</th>\n",
       "      <th>Neutral</th>\n",
       "      <th>Positive</th>\n",
       "      <th>Compound</th>\n",
       "      <th>funct</th>\n",
       "      <th>...</th>\n",
       "      <th>cleanedString</th>\n",
       "      <th>angerS</th>\n",
       "      <th>anticipation</th>\n",
       "      <th>disgust</th>\n",
       "      <th>fear</th>\n",
       "      <th>joy</th>\n",
       "      <th>sadness</th>\n",
       "      <th>surprise</th>\n",
       "      <th>trust</th>\n",
       "      <th>train</th>\n",
       "    </tr>\n",
       "  </thead>\n",
       "  <tbody>\n",
       "    <tr>\n",
       "      <th>21327</th>\n",
       "      <td>73286</td>\n",
       "      <td>db4s0h</td>\n",
       "      <td>0</td>\n",
       "      <td>**Previous editions:**\\n\\n*(All strawpoll resu...</td>\n",
       "      <td>['previous', 'edition', 'strawpoll', 'result',...</td>\n",
       "      <td>0.066</td>\n",
       "      <td>0.826</td>\n",
       "      <td>0.108</td>\n",
       "      <td>0.9848</td>\n",
       "      <td>0.444282</td>\n",
       "      <td>...</td>\n",
       "      <td>previous edition strawpoll result counted next...</td>\n",
       "      <td>0.160494</td>\n",
       "      <td>0.135802</td>\n",
       "      <td>0.037037</td>\n",
       "      <td>0.148148</td>\n",
       "      <td>0.098765</td>\n",
       "      <td>0.123457</td>\n",
       "      <td>0.049383</td>\n",
       "      <td>0.246914</td>\n",
       "      <td>0</td>\n",
       "    </tr>\n",
       "    <tr>\n",
       "      <th>26703</th>\n",
       "      <td>40236</td>\n",
       "      <td>k2p0p2</td>\n",
       "      <td>1</td>\n",
       "      <td>Hey guys, had a thought and would love to hear...</td>\n",
       "      <td>['hey', 'guy', 'thought', 'would', 'love', 'he...</td>\n",
       "      <td>0.022</td>\n",
       "      <td>0.880</td>\n",
       "      <td>0.098</td>\n",
       "      <td>0.8577</td>\n",
       "      <td>0.578947</td>\n",
       "      <td>...</td>\n",
       "      <td>hey guy thought would love hear argument try r...</td>\n",
       "      <td>0.111111</td>\n",
       "      <td>0.166667</td>\n",
       "      <td>0.055556</td>\n",
       "      <td>0.000000</td>\n",
       "      <td>0.166667</td>\n",
       "      <td>0.055556</td>\n",
       "      <td>0.111111</td>\n",
       "      <td>0.333333</td>\n",
       "      <td>0</td>\n",
       "    </tr>\n",
       "    <tr>\n",
       "      <th>28202</th>\n",
       "      <td>14293</td>\n",
       "      <td>85qs4s</td>\n",
       "      <td>0</td>\n",
       "      <td>I am not american so it was all the easier to ...</td>\n",
       "      <td>['american', 'easier', 'fail', 'keep', 'news',...</td>\n",
       "      <td>0.102</td>\n",
       "      <td>0.816</td>\n",
       "      <td>0.082</td>\n",
       "      <td>-0.1779</td>\n",
       "      <td>0.666667</td>\n",
       "      <td>...</td>\n",
       "      <td>american easier fail keep news especially elec...</td>\n",
       "      <td>0.000000</td>\n",
       "      <td>1.000000</td>\n",
       "      <td>0.000000</td>\n",
       "      <td>0.000000</td>\n",
       "      <td>0.000000</td>\n",
       "      <td>0.000000</td>\n",
       "      <td>0.000000</td>\n",
       "      <td>0.000000</td>\n",
       "      <td>0</td>\n",
       "    </tr>\n",
       "    <tr>\n",
       "      <th>12169</th>\n",
       "      <td>64730</td>\n",
       "      <td>6vy8ze</td>\n",
       "      <td>0</td>\n",
       "      <td>Healthcare: The US has far and away the most e...</td>\n",
       "      <td>['healthcare', 'u', 'far', 'away', 'expensive'...</td>\n",
       "      <td>0.049</td>\n",
       "      <td>0.857</td>\n",
       "      <td>0.094</td>\n",
       "      <td>0.8498</td>\n",
       "      <td>0.514970</td>\n",
       "      <td>...</td>\n",
       "      <td>healthcare u far away expensive healthcare wor...</td>\n",
       "      <td>0.080000</td>\n",
       "      <td>0.320000</td>\n",
       "      <td>0.040000</td>\n",
       "      <td>0.040000</td>\n",
       "      <td>0.120000</td>\n",
       "      <td>0.040000</td>\n",
       "      <td>0.120000</td>\n",
       "      <td>0.240000</td>\n",
       "      <td>0</td>\n",
       "    </tr>\n",
       "    <tr>\n",
       "      <th>6680</th>\n",
       "      <td>115230</td>\n",
       "      <td>kcxdjn</td>\n",
       "      <td>0</td>\n",
       "      <td>Is this Subreddit for Leftists criticising Lib...</td>\n",
       "      <td>['subreddit', 'leftist', 'criticising', 'liber...</td>\n",
       "      <td>0.329</td>\n",
       "      <td>0.671</td>\n",
       "      <td>0.000</td>\n",
       "      <td>-0.6597</td>\n",
       "      <td>0.461538</td>\n",
       "      <td>...</td>\n",
       "      <td>subreddit leftist criticising liberal also rig...</td>\n",
       "      <td>0.000000</td>\n",
       "      <td>0.000000</td>\n",
       "      <td>0.000000</td>\n",
       "      <td>0.000000</td>\n",
       "      <td>0.000000</td>\n",
       "      <td>0.000000</td>\n",
       "      <td>0.000000</td>\n",
       "      <td>0.000000</td>\n",
       "      <td>0</td>\n",
       "    </tr>\n",
       "    <tr>\n",
       "      <th>...</th>\n",
       "      <td>...</td>\n",
       "      <td>...</td>\n",
       "      <td>...</td>\n",
       "      <td>...</td>\n",
       "      <td>...</td>\n",
       "      <td>...</td>\n",
       "      <td>...</td>\n",
       "      <td>...</td>\n",
       "      <td>...</td>\n",
       "      <td>...</td>\n",
       "      <td>...</td>\n",
       "      <td>...</td>\n",
       "      <td>...</td>\n",
       "      <td>...</td>\n",
       "      <td>...</td>\n",
       "      <td>...</td>\n",
       "      <td>...</td>\n",
       "      <td>...</td>\n",
       "      <td>...</td>\n",
       "      <td>...</td>\n",
       "      <td>...</td>\n",
       "    </tr>\n",
       "    <tr>\n",
       "      <th>14123</th>\n",
       "      <td>72519</td>\n",
       "      <td>jm5i66</td>\n",
       "      <td>0</td>\n",
       "      <td>\\[Bernie Sanders lands in Trump Tower and remo...</td>\n",
       "      <td>['trump', 'please', 'tell', 'youre', 'going', ...</td>\n",
       "      <td>0.106</td>\n",
       "      <td>0.807</td>\n",
       "      <td>0.086</td>\n",
       "      <td>-0.9481</td>\n",
       "      <td>0.475962</td>\n",
       "      <td>...</td>\n",
       "      <td>trump please tell youre going appeal humanity ...</td>\n",
       "      <td>0.139535</td>\n",
       "      <td>0.209302</td>\n",
       "      <td>0.069767</td>\n",
       "      <td>0.162791</td>\n",
       "      <td>0.093023</td>\n",
       "      <td>0.069767</td>\n",
       "      <td>0.023256</td>\n",
       "      <td>0.232558</td>\n",
       "      <td>0</td>\n",
       "    </tr>\n",
       "    <tr>\n",
       "      <th>25070</th>\n",
       "      <td>55003</td>\n",
       "      <td>4jz078</td>\n",
       "      <td>0</td>\n",
       "      <td>Hillary loves to say she is ahead by 3 million...</td>\n",
       "      <td>['hillary', 'love', 'say', 'ahead', 'million',...</td>\n",
       "      <td>0.042</td>\n",
       "      <td>0.776</td>\n",
       "      <td>0.182</td>\n",
       "      <td>0.9625</td>\n",
       "      <td>0.518868</td>\n",
       "      <td>...</td>\n",
       "      <td>hillary love say ahead million vote bernie rec...</td>\n",
       "      <td>0.058824</td>\n",
       "      <td>0.176471</td>\n",
       "      <td>0.000000</td>\n",
       "      <td>0.000000</td>\n",
       "      <td>0.294118</td>\n",
       "      <td>0.058824</td>\n",
       "      <td>0.117647</td>\n",
       "      <td>0.294118</td>\n",
       "      <td>0</td>\n",
       "    </tr>\n",
       "    <tr>\n",
       "      <th>29332</th>\n",
       "      <td>102276</td>\n",
       "      <td>hbb9g4</td>\n",
       "      <td>0</td>\n",
       "      <td>[Welcome to the Daily Political Discussion Rou...</td>\n",
       "      <td>['please', 'use', 'thread', 'discus', 'whateve...</td>\n",
       "      <td>0.000</td>\n",
       "      <td>0.824</td>\n",
       "      <td>0.176</td>\n",
       "      <td>0.8316</td>\n",
       "      <td>0.500000</td>\n",
       "      <td>...</td>\n",
       "      <td>please use thread discus whatever mind share n...</td>\n",
       "      <td>0.000000</td>\n",
       "      <td>0.333333</td>\n",
       "      <td>0.000000</td>\n",
       "      <td>0.000000</td>\n",
       "      <td>0.333333</td>\n",
       "      <td>0.000000</td>\n",
       "      <td>0.000000</td>\n",
       "      <td>0.333333</td>\n",
       "      <td>0</td>\n",
       "    </tr>\n",
       "    <tr>\n",
       "      <th>14271</th>\n",
       "      <td>114252</td>\n",
       "      <td>4b9go9</td>\n",
       "      <td>0</td>\n",
       "      <td>http://i.imgur.com/KaMj1yW.png\\n\\nAlso: \\n\\n&amp;g...</td>\n",
       "      <td>['also', 'actually', 'chinese', 'culture', 'so...</td>\n",
       "      <td>0.169</td>\n",
       "      <td>0.700</td>\n",
       "      <td>0.132</td>\n",
       "      <td>-0.5729</td>\n",
       "      <td>0.456140</td>\n",
       "      <td>...</td>\n",
       "      <td>also actually chinese culture sophisticated lo...</td>\n",
       "      <td>0.133333</td>\n",
       "      <td>0.266667</td>\n",
       "      <td>0.000000</td>\n",
       "      <td>0.133333</td>\n",
       "      <td>0.133333</td>\n",
       "      <td>0.200000</td>\n",
       "      <td>0.133333</td>\n",
       "      <td>0.000000</td>\n",
       "      <td>0</td>\n",
       "    </tr>\n",
       "    <tr>\n",
       "      <th>28189</th>\n",
       "      <td>66210</td>\n",
       "      <td>bbpfvw</td>\n",
       "      <td>0</td>\n",
       "      <td>I could go on</td>\n",
       "      <td>['could', 'go']</td>\n",
       "      <td>0.000</td>\n",
       "      <td>1.000</td>\n",
       "      <td>0.000</td>\n",
       "      <td>0.0000</td>\n",
       "      <td>0.750000</td>\n",
       "      <td>...</td>\n",
       "      <td>could go</td>\n",
       "      <td>0.000000</td>\n",
       "      <td>0.000000</td>\n",
       "      <td>0.000000</td>\n",
       "      <td>0.000000</td>\n",
       "      <td>0.000000</td>\n",
       "      <td>0.000000</td>\n",
       "      <td>0.000000</td>\n",
       "      <td>0.000000</td>\n",
       "      <td>0</td>\n",
       "    </tr>\n",
       "  </tbody>\n",
       "</table>\n",
       "<p>29703 rows × 84 columns</p>\n",
       "</div>"
      ],
      "text/plain": [
       "       Unnamed: 0      id  label  \\\n",
       "21327       73286  db4s0h      0   \n",
       "26703       40236  k2p0p2      1   \n",
       "28202       14293  85qs4s      0   \n",
       "12169       64730  6vy8ze      0   \n",
       "6680       115230  kcxdjn      0   \n",
       "...           ...     ...    ...   \n",
       "14123       72519  jm5i66      0   \n",
       "25070       55003  4jz078      0   \n",
       "29332      102276  hbb9g4      0   \n",
       "14271      114252  4b9go9      0   \n",
       "28189       66210  bbpfvw      0   \n",
       "\n",
       "                                                selftext  \\\n",
       "21327  **Previous editions:**\\n\\n*(All strawpoll resu...   \n",
       "26703  Hey guys, had a thought and would love to hear...   \n",
       "28202  I am not american so it was all the easier to ...   \n",
       "12169  Healthcare: The US has far and away the most e...   \n",
       "6680   Is this Subreddit for Leftists criticising Lib...   \n",
       "...                                                  ...   \n",
       "14123  \\[Bernie Sanders lands in Trump Tower and remo...   \n",
       "25070  Hillary loves to say she is ahead by 3 million...   \n",
       "29332  [Welcome to the Daily Political Discussion Rou...   \n",
       "14271  http://i.imgur.com/KaMj1yW.png\\n\\nAlso: \\n\\n&g...   \n",
       "28189                                      I could go on   \n",
       "\n",
       "                                                 cleaned  Negative  Neutral  \\\n",
       "21327  ['previous', 'edition', 'strawpoll', 'result',...     0.066    0.826   \n",
       "26703  ['hey', 'guy', 'thought', 'would', 'love', 'he...     0.022    0.880   \n",
       "28202  ['american', 'easier', 'fail', 'keep', 'news',...     0.102    0.816   \n",
       "12169  ['healthcare', 'u', 'far', 'away', 'expensive'...     0.049    0.857   \n",
       "6680   ['subreddit', 'leftist', 'criticising', 'liber...     0.329    0.671   \n",
       "...                                                  ...       ...      ...   \n",
       "14123  ['trump', 'please', 'tell', 'youre', 'going', ...     0.106    0.807   \n",
       "25070  ['hillary', 'love', 'say', 'ahead', 'million',...     0.042    0.776   \n",
       "29332  ['please', 'use', 'thread', 'discus', 'whateve...     0.000    0.824   \n",
       "14271  ['also', 'actually', 'chinese', 'culture', 'so...     0.169    0.700   \n",
       "28189                                    ['could', 'go']     0.000    1.000   \n",
       "\n",
       "       Positive  Compound     funct  ...  \\\n",
       "21327     0.108    0.9848  0.444282  ...   \n",
       "26703     0.098    0.8577  0.578947  ...   \n",
       "28202     0.082   -0.1779  0.666667  ...   \n",
       "12169     0.094    0.8498  0.514970  ...   \n",
       "6680      0.000   -0.6597  0.461538  ...   \n",
       "...         ...       ...       ...  ...   \n",
       "14123     0.086   -0.9481  0.475962  ...   \n",
       "25070     0.182    0.9625  0.518868  ...   \n",
       "29332     0.176    0.8316  0.500000  ...   \n",
       "14271     0.132   -0.5729  0.456140  ...   \n",
       "28189     0.000    0.0000  0.750000  ...   \n",
       "\n",
       "                                           cleanedString    angerS  \\\n",
       "21327  previous edition strawpoll result counted next...  0.160494   \n",
       "26703  hey guy thought would love hear argument try r...  0.111111   \n",
       "28202  american easier fail keep news especially elec...  0.000000   \n",
       "12169  healthcare u far away expensive healthcare wor...  0.080000   \n",
       "6680   subreddit leftist criticising liberal also rig...  0.000000   \n",
       "...                                                  ...       ...   \n",
       "14123  trump please tell youre going appeal humanity ...  0.139535   \n",
       "25070  hillary love say ahead million vote bernie rec...  0.058824   \n",
       "29332  please use thread discus whatever mind share n...  0.000000   \n",
       "14271  also actually chinese culture sophisticated lo...  0.133333   \n",
       "28189                                           could go  0.000000   \n",
       "\n",
       "       anticipation   disgust      fear       joy   sadness  surprise  \\\n",
       "21327      0.135802  0.037037  0.148148  0.098765  0.123457  0.049383   \n",
       "26703      0.166667  0.055556  0.000000  0.166667  0.055556  0.111111   \n",
       "28202      1.000000  0.000000  0.000000  0.000000  0.000000  0.000000   \n",
       "12169      0.320000  0.040000  0.040000  0.120000  0.040000  0.120000   \n",
       "6680       0.000000  0.000000  0.000000  0.000000  0.000000  0.000000   \n",
       "...             ...       ...       ...       ...       ...       ...   \n",
       "14123      0.209302  0.069767  0.162791  0.093023  0.069767  0.023256   \n",
       "25070      0.176471  0.000000  0.000000  0.294118  0.058824  0.117647   \n",
       "29332      0.333333  0.000000  0.000000  0.333333  0.000000  0.000000   \n",
       "14271      0.266667  0.000000  0.133333  0.133333  0.200000  0.133333   \n",
       "28189      0.000000  0.000000  0.000000  0.000000  0.000000  0.000000   \n",
       "\n",
       "          trust  train  \n",
       "21327  0.246914      0  \n",
       "26703  0.333333      0  \n",
       "28202  0.000000      0  \n",
       "12169  0.240000      0  \n",
       "6680   0.000000      0  \n",
       "...         ...    ...  \n",
       "14123  0.232558      0  \n",
       "25070  0.294118      0  \n",
       "29332  0.333333      0  \n",
       "14271  0.000000      0  \n",
       "28189  0.000000      0  \n",
       "\n",
       "[29703 rows x 84 columns]"
      ]
     },
     "execution_count": 28,
     "metadata": {},
     "output_type": "execute_result"
    }
   ],
   "source": [
    "validation"
   ]
  },
  {
   "cell_type": "code",
   "execution_count": 26,
   "id": "664e493b",
   "metadata": {
    "ExecuteTime": {
     "end_time": "2023-04-11T05:46:23.343927Z",
     "start_time": "2023-04-11T05:46:23.004117Z"
    }
   },
   "outputs": [
    {
     "name": "stderr",
     "output_type": "stream",
     "text": [
      "C:\\ProgramData\\Anaconda3\\lib\\site-packages\\sklearn\\utils\\deprecation.py:87: FutureWarning: Function plot_confusion_matrix is deprecated; Function `plot_confusion_matrix` is deprecated in 1.0 and will be removed in 1.2. Use one of the class methods: ConfusionMatrixDisplay.from_predictions or ConfusionMatrixDisplay.from_estimator.\n",
      "  warnings.warn(msg, category=FutureWarning)\n"
     ]
    },
    {
     "data": {
      "image/png": "[encoded data removed]",
      "text/plain": [
       "<Figure size 640x480 with 2 Axes>"
      ]
     },
     "metadata": {},
     "output_type": "display_data"
    }
   ],
   "source": [
    "plot_confusion_matrix(estimator=svm_model, X=tfVal, y_true=yVal)\n",
    "plt.show()"
   ]
  },
  {
   "cell_type": "code",
   "execution_count": 52,
   "id": "3b964c67",
   "metadata": {
    "ExecuteTime": {
     "end_time": "2023-04-11T01:42:05.133124Z",
     "start_time": "2023-04-11T01:42:05.092133Z"
    }
   },
   "outputs": [
    {
     "ename": "AttributeError",
     "evalue": "predict_proba is not available when  probability=False",
     "output_type": "error",
     "traceback": [
      "\u001b[1;31m---------------------------------------------------------------------------\u001b[0m",
      "\u001b[1;31mAttributeError\u001b[0m                            Traceback (most recent call last)",
      "\u001b[1;32m~\\AppData\\Local\\Temp\\ipykernel_18964\\4014744001.py\u001b[0m in \u001b[0;36m<module>\u001b[1;34m\u001b[0m\n\u001b[1;32m----> 1\u001b[1;33m \u001b[0mjUtils\u001b[0m\u001b[1;33m.\u001b[0m\u001b[0mclassThres\u001b[0m\u001b[1;33m(\u001b[0m\u001b[0mY\u001b[0m\u001b[1;33m=\u001b[0m\u001b[0myTrain\u001b[0m\u001b[1;33m,\u001b[0m\u001b[0mX\u001b[0m\u001b[1;33m=\u001b[0m\u001b[0mtfTrain\u001b[0m\u001b[1;33m,\u001b[0m\u001b[0mmodel\u001b[0m\u001b[1;33m=\u001b[0m\u001b[0msvm_model\u001b[0m\u001b[1;33m)\u001b[0m\u001b[1;33m\u001b[0m\u001b[1;33m\u001b[0m\u001b[0m\n\u001b[0m",
      "\u001b[1;32m~\\Documents\\INFO 5871\\jUtils.py\u001b[0m in \u001b[0;36mclassThres\u001b[1;34m(Y, X, p, model, title, width, height)\u001b[0m\n\u001b[0;32m    260\u001b[0m     \u001b[0mroc\u001b[0m \u001b[1;33m=\u001b[0m \u001b[1;33m[\u001b[0m\u001b[1;33m]\u001b[0m\u001b[1;33m\u001b[0m\u001b[1;33m\u001b[0m\u001b[0m\n\u001b[0;32m    261\u001b[0m     \u001b[1;32mif\u001b[0m \u001b[0mp\u001b[0m \u001b[1;32mis\u001b[0m \u001b[1;32mNone\u001b[0m\u001b[1;33m:\u001b[0m\u001b[1;33m\u001b[0m\u001b[1;33m\u001b[0m\u001b[0m\n\u001b[1;32m--> 262\u001b[1;33m         \u001b[0mp\u001b[0m \u001b[1;33m=\u001b[0m \u001b[0mmodel\u001b[0m\u001b[1;33m.\u001b[0m\u001b[0mpredict_proba\u001b[0m\u001b[1;33m(\u001b[0m\u001b[0mX\u001b[0m\u001b[1;33m)\u001b[0m\u001b[1;33m[\u001b[0m\u001b[1;33m:\u001b[0m\u001b[1;33m,\u001b[0m\u001b[1;36m1\u001b[0m\u001b[1;33m:\u001b[0m\u001b[1;33m]\u001b[0m\u001b[1;33m\u001b[0m\u001b[1;33m\u001b[0m\u001b[0m\n\u001b[0m\u001b[0;32m    263\u001b[0m \u001b[1;33m\u001b[0m\u001b[0m\n\u001b[0;32m    264\u001b[0m     \u001b[1;32mfor\u001b[0m \u001b[0mi\u001b[0m \u001b[1;32min\u001b[0m \u001b[0mrange\u001b[0m\u001b[1;33m(\u001b[0m\u001b[1;36m50\u001b[0m\u001b[1;33m,\u001b[0m\u001b[1;36m100\u001b[0m\u001b[1;33m,\u001b[0m\u001b[1;36m5\u001b[0m\u001b[1;33m)\u001b[0m\u001b[1;33m:\u001b[0m\u001b[1;33m\u001b[0m\u001b[1;33m\u001b[0m\u001b[0m\n",
      "\u001b[1;32mC:\\ProgramData\\Anaconda3\\lib\\site-packages\\sklearn\\utils\\metaestimators.py\u001b[0m in \u001b[0;36m__get__\u001b[1;34m(self, obj, owner)\u001b[0m\n\u001b[0;32m    107\u001b[0m             \u001b[1;31m# delegate only on instances, not the classes.\u001b[0m\u001b[1;33m\u001b[0m\u001b[1;33m\u001b[0m\u001b[0m\n\u001b[0;32m    108\u001b[0m             \u001b[1;31m# this is to allow access to the docstrings.\u001b[0m\u001b[1;33m\u001b[0m\u001b[1;33m\u001b[0m\u001b[0m\n\u001b[1;32m--> 109\u001b[1;33m             \u001b[1;32mif\u001b[0m \u001b[1;32mnot\u001b[0m \u001b[0mself\u001b[0m\u001b[1;33m.\u001b[0m\u001b[0mcheck\u001b[0m\u001b[1;33m(\u001b[0m\u001b[0mobj\u001b[0m\u001b[1;33m)\u001b[0m\u001b[1;33m:\u001b[0m\u001b[1;33m\u001b[0m\u001b[1;33m\u001b[0m\u001b[0m\n\u001b[0m\u001b[0;32m    110\u001b[0m                 \u001b[1;32mraise\u001b[0m \u001b[0mattr_err\u001b[0m\u001b[1;33m\u001b[0m\u001b[1;33m\u001b[0m\u001b[0m\n\u001b[0;32m    111\u001b[0m \u001b[1;33m\u001b[0m\u001b[0m\n",
      "\u001b[1;32mC:\\ProgramData\\Anaconda3\\lib\\site-packages\\sklearn\\svm\\_base.py\u001b[0m in \u001b[0;36m_check_proba\u001b[1;34m(self)\u001b[0m\n\u001b[0;32m    798\u001b[0m     \u001b[1;32mdef\u001b[0m \u001b[0m_check_proba\u001b[0m\u001b[1;33m(\u001b[0m\u001b[0mself\u001b[0m\u001b[1;33m)\u001b[0m\u001b[1;33m:\u001b[0m\u001b[1;33m\u001b[0m\u001b[1;33m\u001b[0m\u001b[0m\n\u001b[0;32m    799\u001b[0m         \u001b[1;32mif\u001b[0m \u001b[1;32mnot\u001b[0m \u001b[0mself\u001b[0m\u001b[1;33m.\u001b[0m\u001b[0mprobability\u001b[0m\u001b[1;33m:\u001b[0m\u001b[1;33m\u001b[0m\u001b[1;33m\u001b[0m\u001b[0m\n\u001b[1;32m--> 800\u001b[1;33m             raise AttributeError(\n\u001b[0m\u001b[0;32m    801\u001b[0m                 \u001b[1;34m\"predict_proba is not available when  probability=False\"\u001b[0m\u001b[1;33m\u001b[0m\u001b[1;33m\u001b[0m\u001b[0m\n\u001b[0;32m    802\u001b[0m             )\n",
      "\u001b[1;31mAttributeError\u001b[0m: predict_proba is not available when  probability=False"
     ]
    }
   ],
   "source": [
    "jUtils.classThres(Y=yTrain,X=tfTrain,model=svm_model)"
   ]
  },
  {
   "cell_type": "code",
   "execution_count": null,
   "id": "369fe16e",
   "metadata": {},
   "outputs": [],
   "source": []
  }
 ],
 "metadata": {
  "kernelspec": {
   "display_name": "Python 3 (ipykernel)",
   "language": "python",
   "name": "python3"
  },
  "language_info": {
   "codemirror_mode": {
    "name": "ipython",
    "version": 3
   },
   "file_extension": ".py",
   "mimetype": "text/x-python",
   "name": "python",
   "nbconvert_exporter": "python",
   "pygments_lexer": "ipython3",
   "version": "3.9.13"
  }
 },
 "nbformat": 4,
 "nbformat_minor": 5
}
